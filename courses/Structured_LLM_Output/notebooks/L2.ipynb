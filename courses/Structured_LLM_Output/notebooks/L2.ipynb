{
 "cells": [
  {
   "cell_type": "markdown",
   "id": "07384ca6-4098-4066-92c2-fca2f25f7e0f",
   "metadata": {},
   "source": [
    "# L2: How To Use Structured Outputs"
   ]
  },
  {
   "cell_type": "code",
   "execution_count": 2,
   "id": "62dba96a-9d73-4f3d-b5d7-7b5eb4f2c610",
   "metadata": {
    "height": 64
   },
   "outputs": [],
   "source": [
    "# Warning control\n",
    "import warnings\n",
    "warnings.filterwarnings('ignore')"
   ]
  },
  {
   "cell_type": "code",
   "execution_count": 3,
   "id": "1c006097-da90-491e-96ee-0121a6fc6bfb",
   "metadata": {
    "height": 64
   },
   "outputs": [],
   "source": [
    "import os\n",
    "from dotenv import load_dotenv, find_dotenv\n",
    "\n",
    "def load_env():\n",
    "    _ = load_dotenv(find_dotenv())\n",
    "\n",
    "def get_openai_api_key():\n",
    "    load_env()\n",
    "    openai_api_key = os.getenv(\"OPENAI_API_KEY\")\n",
    "    return openai_api_key\n",
    "\n",
    "def print_mention(processed_mention, mention):\n",
    "    # Check if we need to respond\n",
    "    if processed_mention.needs_response:\n",
    "        # We need to respond\n",
    "        print(f\"Responding to {processed_mention.sentiment} {processed_mention.product} feedback\")\n",
    "        print(f\"  User: {mention}\")\n",
    "        print(f\"  Response: {processed_mention.response}\")\n",
    "    else:\n",
    "        print(f\"Not responding to {processed_mention.sentiment} {processed_mention.product} post\")\n",
    "        print(f\"  User: {mention}\")\n",
    "\n",
    "    if processed_mention.support_ticket_description:\n",
    "        print(f\"  Adding support ticket: {processed_mention.support_ticket_description}\")\n",
    "\n",
    "\n",
    "KEY = get_openai_api_key()"
   ]
  },
  {
   "cell_type": "code",
   "execution_count": 4,
   "id": "0de02a15-37b7-4318-8388-0f8a5b3cd8a6",
   "metadata": {
    "height": 115
   },
   "outputs": [],
   "source": [
    "from openai import OpenAI\n",
    "\n",
    "# Instantiate the client\n",
    "client = OpenAI(\n",
    "    api_key=KEY\n",
    ")"
   ]
  },
  {
   "cell_type": "markdown",
   "id": "fcd5ca3c-ebd2-46e1-9a1f-5399a61d59da",
   "metadata": {},
   "source": [
    "## Define structure with Pydantic"
   ]
  },
  {
   "cell_type": "code",
   "execution_count": 5,
   "id": "d636037b-b7e1-438c-b065-bb45ca313afa",
   "metadata": {
    "height": 149
   },
   "outputs": [],
   "source": [
    "# The user class from the slides\n",
    "from pydantic import BaseModel\n",
    "from typing import Optional\n",
    "\n",
    "class User(BaseModel):\n",
    "    name: str\n",
    "    age: int\n",
    "    email: Optional[str] = None"
   ]
  },
  {
   "cell_type": "code",
   "execution_count": 6,
   "id": "2d76092e-6abb-430a-97ea-ec17e5fb0e86",
   "metadata": {
    "height": 164
   },
   "outputs": [],
   "source": [
    "completion = client.beta.chat.completions.parse(\n",
    "    model=\"gpt-4o-mini\",\n",
    "    messages=[\n",
    "        {\"role\": \"system\", \"content\": \"You are a helpful assistant.\"},\n",
    "        {\"role\": \"user\", \"content\": \"Make up a user.\"},\n",
    "    ],\n",
    "    response_format=User,\n",
    ")"
   ]
  },
  {
   "cell_type": "code",
   "execution_count": 7,
   "id": "755ceee3-c2cf-4880-9a5b-baf92cf03b2c",
   "metadata": {
    "height": 47
   },
   "outputs": [
    {
     "data": {
      "text/plain": [
       "User(name='Alice Johnson', age=28, email='alice.johnson@example.com')"
      ]
     },
     "execution_count": 7,
     "metadata": {},
     "output_type": "execute_result"
    }
   ],
   "source": [
    "user = completion.choices[0].message.parsed\n",
    "user"
   ]
  },
  {
   "cell_type": "markdown",
   "id": "d04c92a1-2936-4ca3-b8ab-aea726df3e74",
   "metadata": {},
   "source": [
    "## The social media mention structure"
   ]
  },
  {
   "cell_type": "code",
   "execution_count": 8,
   "id": "9c07b7a0-8f8e-4c39-8945-0aaa9c01ec14",
   "metadata": {
    "height": 336
   },
   "outputs": [],
   "source": [
    "from pydantic import BaseModel\n",
    "from enum import Enum\n",
    "from typing import List, Optional, Literal\n",
    "from openai import OpenAI\n",
    "\n",
    "class Mention(BaseModel):\n",
    "    # The model chooses the product the mention is about,\n",
    "    # as well as the social media post's sentiment\n",
    "    product: Literal['app', 'website', 'not_applicable']\n",
    "    sentiment: Literal['positive', 'negative', 'neutral']\n",
    "\n",
    "    # Model can choose to respond to the user\n",
    "    needs_response: bool\n",
    "    response: Optional[str]\n",
    "\n",
    "    # If a support ticket needs to be opened,\n",
    "    # the model can write a description for the\n",
    "    # developers\n",
    "    support_ticket_description: Optional[str]"
   ]
  },
  {
   "cell_type": "code",
   "execution_count": 9,
   "id": "8d97c861-7971-4068-b91a-f3547f954a2f",
   "metadata": {
    "height": 166
   },
   "outputs": [],
   "source": [
    "# Example mentions\n",
    "mentions = [\n",
    "    # About the app\n",
    "    \"@techcorp your app is amazing! The new design is perfect\",\n",
    "    # Website is down, negative sentiment + needs a fix\n",
    "    \"@techcorp website is down again, please fix!\",\n",
    "    # Nothing to respond to\n",
    "    \"hey @techcorp you're so evil\"\n",
    "]"
   ]
  },
  {
   "cell_type": "code",
   "execution_count": 10,
   "id": "ec4792ef-d6dc-4110-872c-9444074392f5",
   "metadata": {
    "height": 487
   },
   "outputs": [],
   "source": [
    "def analyze_mention(\n",
    "    mention: str,\n",
    "    personality: str = \"friendly\"\n",
    ") -> Mention:\n",
    "    completion = client.beta.chat.completions.parse(\n",
    "        model=\"gpt-4o-mini\",\n",
    "        messages=[\n",
    "            {\"role\": \"system\", \"content\": f\"\"\"\n",
    "                Extract structured information from\n",
    "                social media mentions about our products.\n",
    "\n",
    "                Provide\n",
    "                - The product mentioned (website, app, not applicable)\n",
    "                - The mention sentiment (positive, negative, neutral)\n",
    "                - Whether to respond (true/false). Don't respond to\n",
    "                  inflammatory messages or bait.\n",
    "                - A customized response to send to the user if we need\n",
    "                  to respond.\n",
    "                - An optional support ticket description to create.\n",
    "\n",
    "                Your personality is {personality}.\n",
    "            \"\"\"},\n",
    "            {\"role\": \"user\", \"content\": mention},\n",
    "        ],\n",
    "        response_format=Mention,\n",
    "    )\n",
    "    return completion.choices[0].message.parsed"
   ]
  },
  {
   "cell_type": "code",
   "execution_count": 11,
   "id": "3334ce2f-aa63-467c-bcab-e1b8ef6bdbe3",
   "metadata": {
    "height": 64
   },
   "outputs": [
    {
     "name": "stdout",
     "output_type": "stream",
     "text": [
      "User post: @techcorp your app is amazing! The new design is perfect\n"
     ]
    },
    {
     "data": {
      "text/plain": [
       "Mention(product='app', sentiment='positive', needs_response=True, response=\"Thank you so much for your kind words! We're thrilled to hear that you love the new design! 😊 If you have any feedback or suggestions, feel free to share them with us!\", support_ticket_description=None)"
      ]
     },
     "execution_count": 11,
     "metadata": {},
     "output_type": "execute_result"
    }
   ],
   "source": [
    "print(\"User post:\", mentions[0])\n",
    "processed_mention = analyze_mention(mentions[0])\n",
    "processed_mention"
   ]
  },
  {
   "cell_type": "code",
   "execution_count": 12,
   "id": "5f8e7188-9698-457b-814c-ee287da6e459",
   "metadata": {
    "height": 47
   },
   "outputs": [
    {
     "data": {
      "text/plain": [
       "\"Thanks for the compliment, but don't get too used to it. It's just a phase!\""
      ]
     },
     "execution_count": 12,
     "metadata": {},
     "output_type": "execute_result"
    }
   ],
   "source": [
    "rude_mention = analyze_mention(mentions[0], personality=\"rude\")\n",
    "rude_mention.response"
   ]
  },
  {
   "cell_type": "code",
   "execution_count": 13,
   "id": "1e70084e-272f-4dc2-93b7-53b59672770b",
   "metadata": {
    "height": 47
   },
   "outputs": [
    {
     "name": "stdout",
     "output_type": "stream",
     "text": [
      "{\n",
      "  \"product\": \"app\",\n",
      "  \"sentiment\": \"positive\",\n",
      "  \"needs_response\": true,\n",
      "  \"response\": \"Thank you so much for your kind words! We're thrilled to hear that you love the new design! 😊 If you have any feedback or suggestions, feel free to share them with us!\",\n",
      "  \"support_ticket_description\": null\n",
      "}\n"
     ]
    }
   ],
   "source": [
    "mention_json_string = processed_mention.model_dump_json(indent=2)\n",
    "print(mention_json_string)"
   ]
  },
  {
   "cell_type": "markdown",
   "id": "27874677-2ce8-442a-8e95-d3b8fad47fda",
   "metadata": {},
   "source": [
    "## You try!"
   ]
  },
  {
   "cell_type": "code",
   "execution_count": 14,
   "id": "d078671c-8943-4090-ae3e-e81257f00832",
   "metadata": {
    "height": 385
   },
   "outputs": [
    {
     "data": {
      "text/plain": [
       "UserPost(message='Just wanted to shout out to Tech Corp for their amazing customer service! I had an issue with the app crashing and their support team was super responsive and helped me resolve it quickly. Loving the app more than ever! Keep up the great work!')"
      ]
     },
     "execution_count": 14,
     "metadata": {},
     "output_type": "execute_result"
    }
   ],
   "source": [
    "class UserPost(BaseModel):\n",
    "    message: str\n",
    "\n",
    "def make_post(output_class):\n",
    "    completion = client.beta.chat.completions.parse(\n",
    "        model=\"gpt-4o-mini\",\n",
    "        messages=[\n",
    "            {\"role\": \"system\", \"content\": \"\"\"\n",
    "                You are a customer of Tech Corp (@techcorp), a company\n",
    "                that provides an app and a website. Create a small\n",
    "                microblog-style post to them that sends some kind of\n",
    "                feedback, positive or negative.\n",
    "            \"\"\"},\n",
    "            {\"role\": \"user\", \"content\": \"Please write a post.\"},\n",
    "        ],\n",
    "        response_format=output_class,\n",
    "    )\n",
    "    return completion.choices[0].message.parsed\n",
    "\n",
    "new_post = make_post(UserPost)\n",
    "new_post"
   ]
  },
  {
   "cell_type": "code",
   "execution_count": 15,
   "id": "cdfebe75-27a6-420b-a6f1-af47c54640f1",
   "metadata": {
    "height": 30
   },
   "outputs": [
    {
     "data": {
      "text/plain": [
       "Mention(product='app', sentiment='positive', needs_response=True, response=\"Thank you so much for your kind words! We're thrilled to hear that our support team was able to help you quickly. If you need any more assistance or have feedback, feel free to reach out! We appreciate your support!\", support_ticket_description=None)"
      ]
     },
     "execution_count": 15,
     "metadata": {},
     "output_type": "execute_result"
    }
   ],
   "source": [
    "analyze_mention(new_post.message)"
   ]
  },
  {
   "cell_type": "code",
   "execution_count": 16,
   "id": "6c85817d-7934-45d4-9d67-55b3a9c47ce1",
   "metadata": {
    "height": 166
   },
   "outputs": [
    {
     "data": {
      "text/plain": [
       "UserPostWithExtras(user_mood='bad', product='app', sentiment='negative', internal_monologue=['This app used to be so smooth!', 'Why is it lagging all of a sudden?', 'I need a reliable tool for my daily tasks.'], message=\"Hey @techcorp, I've been experiencing some major lag issues with your app lately. It wasn’t like this before—can we get a fix? It's really slowing me down!\")"
      ]
     },
     "execution_count": 16,
     "metadata": {},
     "output_type": "execute_result"
    }
   ],
   "source": [
    "class UserPostWithExtras(BaseModel):\n",
    "    user_mood: Literal[\"awful\", \"bad\", \"evil\"]\n",
    "    product: Literal['app', 'website', 'not_applicable']\n",
    "    sentiment: Literal['positive', 'negative', 'neutral']\n",
    "    internal_monologue: List[str]\n",
    "    message: str\n",
    "\n",
    "new_post = make_post(UserPostWithExtras)\n",
    "new_post"
   ]
  },
  {
   "cell_type": "code",
   "execution_count": null,
   "id": "42e7105d-20ff-4617-aeeb-5a628bd9a224",
   "metadata": {
    "height": 30
   },
   "outputs": [],
   "source": [
    "analyze_mention(new_post.message)"
   ]
  },
  {
   "cell_type": "markdown",
   "id": "e2402d47-1d5f-4efe-97ea-31d02268c952",
   "metadata": {},
   "source": [
    "## Programming with our mentions"
   ]
  },
  {
   "cell_type": "code",
   "execution_count": 17,
   "id": "b85e800e-4ea2-44f4-94c9-e2c8029ad2df",
   "metadata": {
    "height": 368
   },
   "outputs": [
    {
     "name": "stdout",
     "output_type": "stream",
     "text": [
      "Responding to positive app feedback\n",
      "  User: @techcorp your app is amazing! The new design is perfect\n",
      "  Response: Thank you so much for your kind words! We're thrilled to hear that you love the new design of our app. If you have any suggestions or feedback, feel free to share!\n",
      "\n",
      "Responding to negative website feedback\n",
      "  User: @techcorp website is down again, please fix!\n",
      "  Response: Hi there! We're sorry to hear you're experiencing issues with our website. We're currently working to resolve it as quickly as possible. Thank you for your patience!\n",
      "  Adding support ticket: User reported that the website is down and requested a fix.\n",
      "\n",
      "Not responding to negative not_applicable post\n",
      "  User: hey @techcorp you're so evil\n",
      "\n"
     ]
    }
   ],
   "source": [
    "# Loop through posts that tagged us and store the results in a list\n",
    "rows = []\n",
    "for mention in mentions:\n",
    "    # Call the LLM to get a Mention object we can program with\n",
    "    processed_mention = analyze_mention(mention)\n",
    "\n",
    "    # Print out some information\n",
    "    print_mention(processed_mention, mention)\n",
    "\n",
    "    # Convert our processed data to a dictionary\n",
    "    # using Pydantic tools\n",
    "    processed_dict = processed_mention.model_dump()\n",
    "\n",
    "    # Store the original message in the dataframe row\n",
    "    processed_dict['mention'] = mention\n",
    "    rows.append(processed_dict)\n",
    "\n",
    "    print(\"\") # Add separator to make it easier to read"
   ]
  },
  {
   "cell_type": "code",
   "execution_count": 18,
   "id": "cad8446b-59a6-40f2-83b7-cdf1e89b9b18",
   "metadata": {
    "height": 81
   },
   "outputs": [
    {
     "data": {
      "application/vnd.microsoft.datawrangler.viewer.v0+json": {
       "columns": [
        {
         "name": "index",
         "rawType": "int64",
         "type": "integer"
        },
        {
         "name": "product",
         "rawType": "object",
         "type": "string"
        },
        {
         "name": "sentiment",
         "rawType": "object",
         "type": "string"
        },
        {
         "name": "needs_response",
         "rawType": "bool",
         "type": "boolean"
        },
        {
         "name": "response",
         "rawType": "object",
         "type": "unknown"
        },
        {
         "name": "support_ticket_description",
         "rawType": "object",
         "type": "unknown"
        },
        {
         "name": "mention",
         "rawType": "object",
         "type": "string"
        }
       ],
       "ref": "b1a8daba-d7e7-475c-9542-94823aba27ad",
       "rows": [
        [
         "0",
         "app",
         "positive",
         "True",
         "Thank you so much for your kind words! We're thrilled to hear that you love the new design of our app. If you have any suggestions or feedback, feel free to share!",
         null,
         "@techcorp your app is amazing! The new design is perfect"
        ],
        [
         "1",
         "website",
         "negative",
         "True",
         "Hi there! We're sorry to hear you're experiencing issues with our website. We're currently working to resolve it as quickly as possible. Thank you for your patience!",
         "User reported that the website is down and requested a fix.",
         "@techcorp website is down again, please fix!"
        ],
        [
         "2",
         "not_applicable",
         "negative",
         "False",
         null,
         null,
         "hey @techcorp you're so evil"
        ]
       ],
       "shape": {
        "columns": 6,
        "rows": 3
       }
      },
      "text/html": [
       "<div>\n",
       "<style scoped>\n",
       "    .dataframe tbody tr th:only-of-type {\n",
       "        vertical-align: middle;\n",
       "    }\n",
       "\n",
       "    .dataframe tbody tr th {\n",
       "        vertical-align: top;\n",
       "    }\n",
       "\n",
       "    .dataframe thead th {\n",
       "        text-align: right;\n",
       "    }\n",
       "</style>\n",
       "<table border=\"1\" class=\"dataframe\">\n",
       "  <thead>\n",
       "    <tr style=\"text-align: right;\">\n",
       "      <th></th>\n",
       "      <th>product</th>\n",
       "      <th>sentiment</th>\n",
       "      <th>needs_response</th>\n",
       "      <th>response</th>\n",
       "      <th>support_ticket_description</th>\n",
       "      <th>mention</th>\n",
       "    </tr>\n",
       "  </thead>\n",
       "  <tbody>\n",
       "    <tr>\n",
       "      <th>0</th>\n",
       "      <td>app</td>\n",
       "      <td>positive</td>\n",
       "      <td>True</td>\n",
       "      <td>Thank you so much for your kind words! We're t...</td>\n",
       "      <td>None</td>\n",
       "      <td>@techcorp your app is amazing! The new design ...</td>\n",
       "    </tr>\n",
       "    <tr>\n",
       "      <th>1</th>\n",
       "      <td>website</td>\n",
       "      <td>negative</td>\n",
       "      <td>True</td>\n",
       "      <td>Hi there! We're sorry to hear you're experienc...</td>\n",
       "      <td>User reported that the website is down and req...</td>\n",
       "      <td>@techcorp website is down again, please fix!</td>\n",
       "    </tr>\n",
       "    <tr>\n",
       "      <th>2</th>\n",
       "      <td>not_applicable</td>\n",
       "      <td>negative</td>\n",
       "      <td>False</td>\n",
       "      <td>None</td>\n",
       "      <td>None</td>\n",
       "      <td>hey @techcorp you're so evil</td>\n",
       "    </tr>\n",
       "  </tbody>\n",
       "</table>\n",
       "</div>"
      ],
      "text/plain": [
       "          product sentiment  needs_response  \\\n",
       "0             app  positive            True   \n",
       "1         website  negative            True   \n",
       "2  not_applicable  negative           False   \n",
       "\n",
       "                                            response  \\\n",
       "0  Thank you so much for your kind words! We're t...   \n",
       "1  Hi there! We're sorry to hear you're experienc...   \n",
       "2                                               None   \n",
       "\n",
       "                          support_ticket_description  \\\n",
       "0                                               None   \n",
       "1  User reported that the website is down and req...   \n",
       "2                                               None   \n",
       "\n",
       "                                             mention  \n",
       "0  @techcorp your app is amazing! The new design ...  \n",
       "1       @techcorp website is down again, please fix!  \n",
       "2                       hey @techcorp you're so evil  "
      ]
     },
     "execution_count": 18,
     "metadata": {},
     "output_type": "execute_result"
    }
   ],
   "source": [
    "import pandas as pd\n",
    "\n",
    "df = pd.DataFrame(rows)\n",
    "df"
   ]
  },
  {
   "cell_type": "code",
   "execution_count": null,
   "id": "cbc59204-0ecf-4a93-a2f4-474b01b12e4a",
   "metadata": {
    "height": 30
   },
   "outputs": [],
   "source": []
  },
  {
   "cell_type": "code",
   "execution_count": null,
   "id": "daac7379-90b3-4454-b900-cd6bebe33bfb",
   "metadata": {
    "height": 30
   },
   "outputs": [],
   "source": []
  },
  {
   "cell_type": "code",
   "execution_count": null,
   "id": "5dbaed59-a641-4613-b1ff-80578c92f680",
   "metadata": {
    "height": 30
   },
   "outputs": [],
   "source": []
  },
  {
   "cell_type": "code",
   "execution_count": null,
   "id": "600883f1-f867-4a00-8e52-5983e3d942ca",
   "metadata": {
    "height": 30
   },
   "outputs": [],
   "source": []
  },
  {
   "cell_type": "code",
   "execution_count": null,
   "id": "f16f063b-a94f-4e84-8cac-459f9334e652",
   "metadata": {
    "height": 30
   },
   "outputs": [],
   "source": []
  },
  {
   "cell_type": "code",
   "execution_count": null,
   "id": "6af25623-e982-4abe-a521-53ab00c51caf",
   "metadata": {
    "height": 30
   },
   "outputs": [],
   "source": []
  }
 ],
 "metadata": {
  "kernelspec": {
   "display_name": "DLAI-shortcourse_notebooks",
   "language": "python",
   "name": "python3"
  },
  "language_info": {
   "codemirror_mode": {
    "name": "ipython",
    "version": 3
   },
   "file_extension": ".py",
   "mimetype": "text/x-python",
   "name": "python",
   "nbconvert_exporter": "python",
   "pygments_lexer": "ipython3",
   "version": "3.11.12"
  }
 },
 "nbformat": 4,
 "nbformat_minor": 5
}
