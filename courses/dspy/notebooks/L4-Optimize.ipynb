{
 "cells": [
  {
   "cell_type": "markdown",
   "id": "8203e759-9961-4ab9-91b3-231c89ef914e",
   "metadata": {},
   "source": [
    "# L4: Optimize DSPy Agent with DSPy Optimizer"
   ]
  },
  {
   "cell_type": "code",
   "execution_count": 1,
   "id": "8382e6e9",
   "metadata": {},
   "outputs": [
    {
     "name": "stdout",
     "output_type": "stream",
     "text": [
      "Google API Key loaded: True\n",
      "OpenAI API Key loaded: True\n"
     ]
    }
   ],
   "source": [
    "import os\n",
    "from dotenv import load_dotenv\n",
    "# Load environment variables from .env file\n",
    "load_dotenv()\n",
    "\n",
    "# Access your API keys\n",
    "google_api_key = os.getenv('GOOGLE_API_KEY')\n",
    "openai_api_key = os.getenv('OPENAI_API_KEY')\n",
    "# Use the keys\n",
    "print(f\"Google API Key loaded: {bool(google_api_key)}\")\n",
    "print(f\"OpenAI API Key loaded: {bool(openai_api_key)}\")\n",
    "\n",
    "os.environ[\"OPENAI_API_KEY\"]  = openai_api_key"
   ]
  },
  {
   "cell_type": "code",
   "execution_count": 2,
   "id": "a6293ba0-e1f1-47c8-8a99-7870e125400b",
   "metadata": {
    "height": 30
   },
   "outputs": [],
   "source": [
    "import mlflow"
   ]
  },
  {
   "cell_type": "code",
   "execution_count": 14,
   "id": "8d2c33f0",
   "metadata": {},
   "outputs": [
    {
     "name": "stdout",
     "output_type": "stream",
     "text": [
      "e:\\GIT_ROOT\\Learning\\DLAI-shortcourse_notebooks\\courses\\dspy\\notebooks\n"
     ]
    }
   ],
   "source": [
    "from pathlib import Path\n",
    "notebook_path = Path.cwd()\n",
    "root_path = Path.cwd().parent\n",
    "data_path = root_path / \"data\"\n",
    "mlflow_tracking_uri = notebook_path / \"mlruns\"\n",
    "print(notebook_path)"
   ]
  },
  {
   "cell_type": "code",
   "execution_count": 3,
   "id": "062e419f-3c89-4bfc-b982-c2601495ee03",
   "metadata": {
    "height": 81
   },
   "outputs": [],
   "source": [
    "def get_mlflow_tracking_uri():\n",
    "    return \"http://localhost:8080\"\n",
    "    #return os.environ.get('DLAI_LOCAL_URL').format(port=8080)\n",
    "\n",
    "\n",
    "mlflow_tracking_uri = get_mlflow_tracking_uri()\n",
    "mlflow.set_tracking_uri(mlflow_tracking_uri)"
   ]
  },
  {
   "cell_type": "code",
   "execution_count": null,
   "id": "9caf9b63",
   "metadata": {},
   "outputs": [],
   "source": [
    "# !mlflow server --host 127.0.0.1 --port 8080"
   ]
  },
  {
   "cell_type": "code",
   "execution_count": 4,
   "id": "859b1c04-f989-4432-a0c5-3353b7e1c25e",
   "metadata": {
    "height": 30
   },
   "outputs": [
    {
     "name": "stderr",
     "output_type": "stream",
     "text": [
      "2025/07/06 18:47:22 INFO mlflow.tracking.fluent: Experiment with name 'dspy_course_4' does not exist. Creating a new experiment.\n"
     ]
    },
    {
     "data": {
      "text/plain": [
       "<Experiment: artifact_location='mlflow-artifacts:/840480777417013393', creation_time=1751807842407, experiment_id='840480777417013393', last_update_time=1751807842407, lifecycle_stage='active', name='dspy_course_4', tags={}>"
      ]
     },
     "execution_count": 4,
     "metadata": {},
     "output_type": "execute_result"
    }
   ],
   "source": [
    "mlflow.set_experiment(\"dspy_course_4\")"
   ]
  },
  {
   "cell_type": "code",
   "execution_count": 5,
   "id": "19607589-df48-4d9b-b8cb-90d72a5ea296",
   "metadata": {
    "height": 45
   },
   "outputs": [],
   "source": [
    "mlflow.dspy.autolog(log_evals=True, log_compiles=True, log_traces_from_compile=True)"
   ]
  },
  {
   "cell_type": "code",
   "execution_count": 6,
   "id": "bbb72726-3fb3-4976-9438-16642347cee8",
   "metadata": {
    "height": 64
   },
   "outputs": [],
   "source": [
    "import dspy\n",
    "\n",
    "dspy.configure(lm=dspy.LM(\"openai/gpt-4o-mini\"))"
   ]
  },
  {
   "cell_type": "markdown",
   "id": "584f9729-1333-4e85-babb-924fca89f0d3",
   "metadata": {},
   "source": [
    "## Build a RAG Agent"
   ]
  },
  {
   "cell_type": "code",
   "execution_count": 7,
   "id": "dcf83eee-ac47-4893-bf07-83c702bb3e8e",
   "metadata": {
    "height": 113
   },
   "outputs": [],
   "source": [
    "def search_wikipedia(query: str) -> list[str]:\n",
    "    results = dspy.ColBERTv2(url=\"http://20.102.90.50:2017/wiki17_abstracts\")(query, k=3)\n",
    "    return [x[\"text\"] for x in results]\n",
    "\n",
    "react = dspy.ReAct(\"question -> answer\", tools=[search_wikipedia])"
   ]
  },
  {
   "cell_type": "code",
   "execution_count": null,
   "id": "97d1ea8d",
   "metadata": {},
   "outputs": [
    {
     "name": "stderr",
     "output_type": "stream",
     "text": [
      "'pwd' is not recognized as an internal or external command,\n",
      "operable program or batch file.\n"
     ]
    }
   ],
   "source": []
  },
  {
   "cell_type": "code",
   "execution_count": 15,
   "id": "be77a703-efc5-453e-b854-db69cf51d3b0",
   "metadata": {
    "height": 249
   },
   "outputs": [],
   "source": [
    "import json\n",
    "\n",
    "# Load trainset\n",
    "trainset = []\n",
    "with open(data_path/\"trainset.jsonl\", \"r\") as f:\n",
    "    for line in f:\n",
    "        trainset.append(dspy.Example(**json.loads(line)).with_inputs(\"question\"))\n",
    "\n",
    "# Load valset\n",
    "valset = []\n",
    "with open(data_path/\"valset.jsonl\", \"r\") as f:\n",
    "    for line in f:\n",
    "        valset.append(dspy.Example(**json.loads(line)).with_inputs(\"question\"))"
   ]
  },
  {
   "cell_type": "code",
   "execution_count": 16,
   "id": "cc78279c-1f0e-4719-8c7b-9c87d6a3af34",
   "metadata": {
    "height": 47
   },
   "outputs": [
    {
     "name": "stdout",
     "output_type": "stream",
     "text": [
      "Example({'question': 'Are Smyrnium and Nymania both types of plant?', 'answer': 'yes'}) (input_keys={'question'})\n"
     ]
    }
   ],
   "source": [
    "# Overview of the dataset.\n",
    "print(trainset[0])"
   ]
  },
  {
   "cell_type": "code",
   "execution_count": 19,
   "id": "0cffda9e-5308-4ae0-8100-4a4127b5f269",
   "metadata": {
    "height": 98
   },
   "outputs": [],
   "source": [
    "tp = dspy.MIPROv2(\n",
    "    metric=dspy.evaluate.answer_exact_match,\n",
    "    auto=\"light\",\n",
    "    num_threads=16\n",
    ")"
   ]
  },
  {
   "cell_type": "code",
   "execution_count": 17,
   "id": "57a19e27-d0f3-4f29-a40e-d38e98012931",
   "metadata": {
    "height": 30
   },
   "outputs": [],
   "source": [
    "dspy.cache.load_memory_cache(data_path/\"memory_cache.pkl\")"
   ]
  },
  {
   "cell_type": "code",
   "execution_count": 20,
   "id": "fb74703c-6a16-4635-aecf-a8cc5baa4a7f",
   "metadata": {
    "height": 115
   },
   "outputs": [
    {
     "name": "stderr",
     "output_type": "stream",
     "text": [
      "2025/07/06 18:51:57 INFO mlflow.utils.autologging_utils: Created MLflow autologging run with ID '4fb3da48f6a84886bb2d96948876c41e', which will track hyperparameters, performance metrics, model artifacts, and lineage information for the current dspy workflow\n",
      "2025/07/06 18:51:57 INFO dspy.teleprompt.mipro_optimizer_v2: \n",
      "RUNNING WITH THE FOLLOWING LIGHT AUTO RUN SETTINGS:\n",
      "num_trials: 20\n",
      "minibatch: True\n",
      "num_fewshot_candidates: 6\n",
      "num_instruct_candidates: 3\n",
      "valset size: 100\n",
      "\n",
      "2025/07/06 18:51:57 INFO dspy.teleprompt.mipro_optimizer_v2: \n",
      "==> STEP 1: BOOTSTRAP FEWSHOT EXAMPLES <==\n",
      "2025/07/06 18:51:57 INFO dspy.teleprompt.mipro_optimizer_v2: These will be used as few-shot example candidates for our program and for creating instructions.\n",
      "\n",
      "2025/07/06 18:51:57 INFO dspy.teleprompt.mipro_optimizer_v2: Bootstrapping N=6 sets of demonstrations...\n"
     ]
    },
    {
     "name": "stdout",
     "output_type": "stream",
     "text": [
      "Bootstrapping set 1/6\n",
      "Bootstrapping set 2/6\n",
      "Bootstrapping set 3/6\n"
     ]
    },
    {
     "data": {
      "application/vnd.jupyter.widget-view+json": {
       "model_id": "1343c39d5e854eb9b514b0365eb6e3c7",
       "version_major": 2,
       "version_minor": 0
      },
      "text/plain": [
       "Downloading artifacts:   0%|          | 0/1 [00:00<?, ?it/s]"
      ]
     },
     "metadata": {},
     "output_type": "display_data"
    },
    {
     "name": "stderr",
     "output_type": "stream",
     "text": [
      " 15%|█▌        | 15/100 [02:03<11:37,  8.21s/it]"
     ]
    },
    {
     "name": "stdout",
     "output_type": "stream",
     "text": [
      "Bootstrapped 4 full traces after 15 examples for up to 1 rounds, amounting to 15 attempts.\n"
     ]
    },
    {
     "name": "stderr",
     "output_type": "stream",
     "text": [
      "\n"
     ]
    },
    {
     "data": {
      "application/vnd.jupyter.widget-view+json": {
       "model_id": "fc6f06ae56f448cb8893f7ea57e1baab",
       "version_major": 2,
       "version_minor": 0
      },
      "text/plain": [
       "Downloading artifacts:   0%|          | 0/1 [00:00<?, ?it/s]"
      ]
     },
     "metadata": {},
     "output_type": "display_data"
    },
    {
     "name": "stdout",
     "output_type": "stream",
     "text": [
      "Bootstrapping set 4/6\n"
     ]
    },
    {
     "data": {
      "application/vnd.jupyter.widget-view+json": {
       "model_id": "0eb3fc03ea5544a7b1f2008107e581bc",
       "version_major": 2,
       "version_minor": 0
      },
      "text/plain": [
       "Downloading artifacts:   0%|          | 0/1 [00:00<?, ?it/s]"
      ]
     },
     "metadata": {},
     "output_type": "display_data"
    },
    {
     "name": "stderr",
     "output_type": "stream",
     "text": [
      "  1%|          | 1/100 [00:11<19:09, 11.61s/it]"
     ]
    },
    {
     "name": "stdout",
     "output_type": "stream",
     "text": [
      "Bootstrapped 1 full traces after 1 examples for up to 1 rounds, amounting to 1 attempts.\n"
     ]
    },
    {
     "name": "stderr",
     "output_type": "stream",
     "text": [
      "\n"
     ]
    },
    {
     "data": {
      "application/vnd.jupyter.widget-view+json": {
       "model_id": "b9f9fb406ce2442d93bfde312f03ab82",
       "version_major": 2,
       "version_minor": 0
      },
      "text/plain": [
       "Downloading artifacts:   0%|          | 0/1 [00:00<?, ?it/s]"
      ]
     },
     "metadata": {},
     "output_type": "display_data"
    },
    {
     "name": "stdout",
     "output_type": "stream",
     "text": [
      "Bootstrapping set 5/6\n"
     ]
    },
    {
     "data": {
      "application/vnd.jupyter.widget-view+json": {
       "model_id": "738ae470204d473a857e0db39c31d751",
       "version_major": 2,
       "version_minor": 0
      },
      "text/plain": [
       "Downloading artifacts:   0%|          | 0/1 [00:00<?, ?it/s]"
      ]
     },
     "metadata": {},
     "output_type": "display_data"
    },
    {
     "name": "stderr",
     "output_type": "stream",
     "text": [
      " 10%|█         | 10/100 [01:14<11:14,  7.50s/it]"
     ]
    },
    {
     "name": "stdout",
     "output_type": "stream",
     "text": [
      "Bootstrapped 4 full traces after 10 examples for up to 1 rounds, amounting to 10 attempts.\n"
     ]
    },
    {
     "name": "stderr",
     "output_type": "stream",
     "text": [
      "\n"
     ]
    },
    {
     "data": {
      "application/vnd.jupyter.widget-view+json": {
       "model_id": "9f70a79deb1d4cfcae3718b85ea8f1a0",
       "version_major": 2,
       "version_minor": 0
      },
      "text/plain": [
       "Downloading artifacts:   0%|          | 0/1 [00:00<?, ?it/s]"
      ]
     },
     "metadata": {},
     "output_type": "display_data"
    },
    {
     "name": "stdout",
     "output_type": "stream",
     "text": [
      "Bootstrapping set 6/6\n"
     ]
    },
    {
     "data": {
      "application/vnd.jupyter.widget-view+json": {
       "model_id": "8f55867fdccd4b2a9895b501f384d2f0",
       "version_major": 2,
       "version_minor": 0
      },
      "text/plain": [
       "Downloading artifacts:   0%|          | 0/1 [00:00<?, ?it/s]"
      ]
     },
     "metadata": {},
     "output_type": "display_data"
    },
    {
     "name": "stderr",
     "output_type": "stream",
     "text": [
      "  2%|▏         | 2/100 [00:10<08:17,  5.07s/it]"
     ]
    },
    {
     "name": "stdout",
     "output_type": "stream",
     "text": [
      "Bootstrapped 1 full traces after 2 examples for up to 1 rounds, amounting to 2 attempts.\n"
     ]
    },
    {
     "name": "stderr",
     "output_type": "stream",
     "text": [
      "\n"
     ]
    },
    {
     "data": {
      "application/vnd.jupyter.widget-view+json": {
       "model_id": "edd4f17ba4ea48808c3de15b6957c195",
       "version_major": 2,
       "version_minor": 0
      },
      "text/plain": [
       "Downloading artifacts:   0%|          | 0/1 [00:00<?, ?it/s]"
      ]
     },
     "metadata": {},
     "output_type": "display_data"
    },
    {
     "name": "stderr",
     "output_type": "stream",
     "text": [
      "2025/07/06 18:55:55 INFO dspy.teleprompt.mipro_optimizer_v2: \n",
      "==> STEP 2: PROPOSE INSTRUCTION CANDIDATES <==\n",
      "2025/07/06 18:55:55 INFO dspy.teleprompt.mipro_optimizer_v2: We will use the few-shot examples from the previous step, a generated dataset summary, a summary of the program code, and a randomly selected prompting tip to propose instructions.\n",
      "2025/07/06 18:56:31 INFO dspy.teleprompt.mipro_optimizer_v2: \n",
      "Proposing N=3 instructions...\n",
      "\n",
      "2025/07/06 18:57:28 INFO dspy.teleprompt.mipro_optimizer_v2: Proposed Instructions for Predictor 0:\n",
      "\n",
      "2025/07/06 18:57:28 INFO dspy.teleprompt.mipro_optimizer_v2: 0: Given the fields `question`, produce the fields `answer`.\n",
      "\n",
      "You are an Agent. In each episode, you will be given the fields `question` as input. And you can see your past trajectory so far.\n",
      "Your goal is to use one or more of the supplied tools to collect any necessary information for producing `answer`.\n",
      "\n",
      "To do this, you will interleave next_thought, next_tool_name, and next_tool_args in each turn, and also when finishing the task.\n",
      "After each tool call, you receive a resulting observation, which gets appended to your trajectory.\n",
      "\n",
      "When writing next_thought, you may reason about the current situation and plan for future steps.\n",
      "When selecting the next_tool_name and its next_tool_args, the tool must be one of:\n",
      "\n",
      "(1) search_wikipedia. It takes arguments {'query': {'type': 'string'}}.\n",
      "(2) finish, whose description is <desc>Marks the task as complete. That is, signals that all information for producing the outputs, i.e. `answer`, are now available to be extracted.</desc>. It takes arguments {}.\n",
      "When providing `next_tool_args`, the value inside the field must be in JSON format\n",
      "\n",
      "2025/07/06 18:57:28 INFO dspy.teleprompt.mipro_optimizer_v2: 1: Given the fields `question` and `trajectory`, your task is to determine the necessary information to produce the field `answer`. As an Agent, you will analyze the `question` and utilize external tools to gather relevant data. You will interleave your reasoning in `next_thought`, specify which tool to use in `next_tool_name`, and provide the necessary arguments in `next_tool_args`. \n",
      "\n",
      "1. Begin by examining the `question` and formulating a `next_thought` that outlines your initial reasoning and what information you need to gather.\n",
      "2. Select the appropriate tool to use based on your reasoning:\n",
      "   - If you need to search for information, choose `search_wikipedia` and provide a relevant query in `next_tool_args`.\n",
      "   - If you have gathered enough information to answer the question, choose `finish` to mark the task as complete.\n",
      "3. After each tool call, you will receive observations that will update your `trajectory`. Use these observations to refine your understanding and adjust your next steps accordingly.\n",
      "4. Continue this process of reasoning and tool usage until you reach a conclusion and can provide a complete `answer`.\n",
      "\n",
      "Your goal is to ensure that the process remains logical and focused on gathering the necessary information to answer the question effectively.\n",
      "\n",
      "2025/07/06 18:57:28 INFO dspy.teleprompt.mipro_optimizer_v2: 2: You are an educational agent tasked with answering fact-based questions. Given the fields `question`, produce the fields `answer`. In each episode, you will be provided with the `question` as input and can reference your past actions in the trajectory. Your goal is to utilize one or more of the supplied tools to gather necessary information to formulate an accurate answer. \n",
      "\n",
      "To accomplish this, interleave your reasoning (`next_thought`), the name of the tool to be used (`next_tool_name`), and the arguments for that tool (`next_tool_args`) in each turn, including when you finish the task. After each tool call, append the resulting observation to your trajectory. \n",
      "\n",
      "When writing `next_thought`, reason about the current situation and plan your next steps. Select the next tool name and its arguments from the following options:\n",
      "\n",
      "(1) `search_wikipedia`: Takes arguments `{'query': {'type': 'string'}}`.\n",
      "(2) `finish`: Marks the task as complete, signaling that all information for producing the output `answer` is available. It takes no arguments.\n",
      "\n",
      "Ensure that the value inside `next_tool_args` is in JSON format.\n",
      "\n",
      "2025/07/06 18:57:28 INFO dspy.teleprompt.mipro_optimizer_v2: \n",
      "\n",
      "2025/07/06 18:57:28 INFO dspy.teleprompt.mipro_optimizer_v2: Proposed Instructions for Predictor 1:\n",
      "\n",
      "2025/07/06 18:57:28 INFO dspy.teleprompt.mipro_optimizer_v2: 0: Given the fields `question`, produce the fields `answer`.\n",
      "\n",
      "2025/07/06 18:57:28 INFO dspy.teleprompt.mipro_optimizer_v2: 1: Using the provided fields `question` and `trajectory`, generate a well-reasoned response that includes both the `reasoning` and the final `answer`. The reasoning should articulate the thought process and steps taken to arrive at the answer, demonstrating a clear connection between the gathered information and the question posed. Aim for clarity and detail to ensure the final output effectively communicates the logic behind the conclusion.\n",
      "\n",
      "2025/07/06 18:57:28 INFO dspy.teleprompt.mipro_optimizer_v2: 2: Given the field `question`, utilize the available tools to gather relevant information and produce the fields `reasoning` and `answer` in a structured manner. Ensure that the reasoning process is clear and methodical to support the final answer.\n",
      "\n",
      "2025/07/06 18:57:28 INFO dspy.teleprompt.mipro_optimizer_v2: \n",
      "\n",
      "2025/07/06 18:57:29 INFO dspy.teleprompt.mipro_optimizer_v2: ==> STEP 3: FINDING OPTIMAL PROMPT PARAMETERS <==\n",
      "2025/07/06 18:57:29 INFO dspy.teleprompt.mipro_optimizer_v2: We will evaluate the program over a series of trials with different combinations of instructions and few-shot examples to find the optimal combination using Bayesian Optimization.\n",
      "\n",
      "2025/07/06 18:57:29 INFO dspy.teleprompt.mipro_optimizer_v2: == Trial 1 / 25 - Full Evaluation of Default Program ==\n"
     ]
    },
    {
     "name": "stdout",
     "output_type": "stream",
     "text": [
      "Average Metric: 29.00 / 100 (29.0%): 100%|██████████| 100/100 [00:57<00:00,  1.74it/s]"
     ]
    },
    {
     "name": "stderr",
     "output_type": "stream",
     "text": [
      "2025/07/06 18:58:27 INFO dspy.evaluate.evaluate: Average Metric: 29 / 100 (29.0%)\n"
     ]
    },
    {
     "name": "stdout",
     "output_type": "stream",
     "text": [
      "\n",
      "🏃 View run eval_full_0 at: http://localhost:8080/#/experiments/840480777417013393/runs/a57e9dd5e91c447c851bb101534e8384\n",
      "🧪 View experiment at: http://localhost:8080/#/experiments/840480777417013393\n"
     ]
    },
    {
     "name": "stderr",
     "output_type": "stream",
     "text": [
      "2025/07/06 18:58:27 INFO dspy.teleprompt.mipro_optimizer_v2: Default program score: 29.0\n",
      "\n",
      "e:\\GIT_ROOT\\Learning\\DLAI-shortcourse_notebooks\\.venv\\Lib\\site-packages\\optuna\\_experimental.py:32: ExperimentalWarning: Argument ``multivariate`` is an experimental feature. The interface can change in the future.\n",
      "  warnings.warn(\n",
      "2025/07/06 18:58:28 INFO dspy.teleprompt.mipro_optimizer_v2: == Trial 2 / 25 - Minibatch ==\n"
     ]
    },
    {
     "name": "stdout",
     "output_type": "stream",
     "text": [
      "Average Metric: 8.00 / 35 (22.9%): 100%|██████████| 35/35 [00:26<00:00,  1.31it/s]"
     ]
    },
    {
     "name": "stderr",
     "output_type": "stream",
     "text": [
      "2025/07/06 18:58:55 INFO dspy.evaluate.evaluate: Average Metric: 8 / 35 (22.9%)\n"
     ]
    },
    {
     "name": "stdout",
     "output_type": "stream",
     "text": [
      "\n"
     ]
    },
    {
     "name": "stderr",
     "output_type": "stream",
     "text": [
      "2025/07/06 18:58:55 INFO dspy.teleprompt.mipro_optimizer_v2: Score: 22.86 on minibatch of size 35 with parameters ['Predictor 0: Instruction 1', 'Predictor 0: Few-Shot Set 3', 'Predictor 1: Instruction 2', 'Predictor 1: Few-Shot Set 0'].\n",
      "2025/07/06 18:58:55 INFO dspy.teleprompt.mipro_optimizer_v2: Minibatch scores so far: [22.86]\n",
      "2025/07/06 18:58:55 INFO dspy.teleprompt.mipro_optimizer_v2: Full eval scores so far: [29.0]\n",
      "2025/07/06 18:58:55 INFO dspy.teleprompt.mipro_optimizer_v2: Best full score so far: 29.0\n",
      "2025/07/06 18:58:55 INFO dspy.teleprompt.mipro_optimizer_v2: =========================================\n",
      "\n",
      "\n",
      "2025/07/06 18:58:55 INFO dspy.teleprompt.mipro_optimizer_v2: == Trial 3 / 25 - Minibatch ==\n"
     ]
    },
    {
     "name": "stdout",
     "output_type": "stream",
     "text": [
      "🏃 View run eval_minibatch_0 at: http://localhost:8080/#/experiments/840480777417013393/runs/d4c30b0f9b874d6a81377fe9d39579c4\n",
      "🧪 View experiment at: http://localhost:8080/#/experiments/840480777417013393\n",
      "Average Metric: 17.00 / 35 (48.6%): 100%|██████████| 35/35 [00:21<00:00,  1.63it/s]"
     ]
    },
    {
     "name": "stderr",
     "output_type": "stream",
     "text": [
      "2025/07/06 18:59:17 INFO dspy.evaluate.evaluate: Average Metric: 17 / 35 (48.6%)\n"
     ]
    },
    {
     "name": "stdout",
     "output_type": "stream",
     "text": [
      "\n"
     ]
    },
    {
     "name": "stderr",
     "output_type": "stream",
     "text": [
      "2025/07/06 18:59:17 INFO dspy.teleprompt.mipro_optimizer_v2: Score: 48.57 on minibatch of size 35 with parameters ['Predictor 0: Instruction 1', 'Predictor 0: Few-Shot Set 5', 'Predictor 1: Instruction 2', 'Predictor 1: Few-Shot Set 2'].\n",
      "2025/07/06 18:59:17 INFO dspy.teleprompt.mipro_optimizer_v2: Minibatch scores so far: [22.86, 48.57]\n",
      "2025/07/06 18:59:17 INFO dspy.teleprompt.mipro_optimizer_v2: Full eval scores so far: [29.0]\n",
      "2025/07/06 18:59:17 INFO dspy.teleprompt.mipro_optimizer_v2: Best full score so far: 29.0\n",
      "2025/07/06 18:59:17 INFO dspy.teleprompt.mipro_optimizer_v2: =========================================\n",
      "\n",
      "\n",
      "2025/07/06 18:59:17 INFO dspy.teleprompt.mipro_optimizer_v2: == Trial 4 / 25 - Minibatch ==\n"
     ]
    },
    {
     "name": "stdout",
     "output_type": "stream",
     "text": [
      "🏃 View run eval_minibatch_1 at: http://localhost:8080/#/experiments/840480777417013393/runs/f22336a914af4da0a5e2112d03f49934\n",
      "🧪 View experiment at: http://localhost:8080/#/experiments/840480777417013393\n",
      "Average Metric: 8.00 / 35 (22.9%): 100%|██████████| 35/35 [00:25<00:00,  1.37it/s]"
     ]
    },
    {
     "name": "stderr",
     "output_type": "stream",
     "text": [
      "2025/07/06 18:59:43 INFO dspy.evaluate.evaluate: Average Metric: 8 / 35 (22.9%)\n"
     ]
    },
    {
     "name": "stdout",
     "output_type": "stream",
     "text": [
      "\n",
      "🏃 View run eval_minibatch_2 at: http://localhost:8080/#/experiments/840480777417013393/runs/2dba3c5ca8d5421c8b23f4c822f9f9fc\n",
      "🧪 View experiment at: http://localhost:8080/#/experiments/840480777417013393\n"
     ]
    },
    {
     "name": "stderr",
     "output_type": "stream",
     "text": [
      "2025/07/06 18:59:43 INFO dspy.teleprompt.mipro_optimizer_v2: Score: 22.86 on minibatch of size 35 with parameters ['Predictor 0: Instruction 0', 'Predictor 0: Few-Shot Set 5', 'Predictor 1: Instruction 2', 'Predictor 1: Few-Shot Set 0'].\n",
      "2025/07/06 18:59:43 INFO dspy.teleprompt.mipro_optimizer_v2: Minibatch scores so far: [22.86, 48.57, 22.86]\n",
      "2025/07/06 18:59:43 INFO dspy.teleprompt.mipro_optimizer_v2: Full eval scores so far: [29.0]\n",
      "2025/07/06 18:59:43 INFO dspy.teleprompt.mipro_optimizer_v2: Best full score so far: 29.0\n",
      "2025/07/06 18:59:43 INFO dspy.teleprompt.mipro_optimizer_v2: =========================================\n",
      "\n",
      "\n",
      "2025/07/06 18:59:43 INFO dspy.teleprompt.mipro_optimizer_v2: == Trial 5 / 25 - Minibatch ==\n"
     ]
    },
    {
     "name": "stdout",
     "output_type": "stream",
     "text": [
      "Average Metric: 19.00 / 35 (54.3%): 100%|██████████| 35/35 [00:20<00:00,  1.72it/s]"
     ]
    },
    {
     "name": "stderr",
     "output_type": "stream",
     "text": [
      "2025/07/06 19:00:04 INFO dspy.evaluate.evaluate: Average Metric: 19 / 35 (54.3%)\n"
     ]
    },
    {
     "name": "stdout",
     "output_type": "stream",
     "text": [
      "\n"
     ]
    },
    {
     "name": "stderr",
     "output_type": "stream",
     "text": [
      "2025/07/06 19:00:04 INFO dspy.teleprompt.mipro_optimizer_v2: Score: 54.29 on minibatch of size 35 with parameters ['Predictor 0: Instruction 2', 'Predictor 0: Few-Shot Set 5', 'Predictor 1: Instruction 1', 'Predictor 1: Few-Shot Set 4'].\n",
      "2025/07/06 19:00:04 INFO dspy.teleprompt.mipro_optimizer_v2: Minibatch scores so far: [22.86, 48.57, 22.86, 54.29]\n",
      "2025/07/06 19:00:04 INFO dspy.teleprompt.mipro_optimizer_v2: Full eval scores so far: [29.0]\n",
      "2025/07/06 19:00:04 INFO dspy.teleprompt.mipro_optimizer_v2: Best full score so far: 29.0\n",
      "2025/07/06 19:00:04 INFO dspy.teleprompt.mipro_optimizer_v2: =========================================\n",
      "\n",
      "\n",
      "2025/07/06 19:00:04 INFO dspy.teleprompt.mipro_optimizer_v2: == Trial 6 / 25 - Minibatch ==\n"
     ]
    },
    {
     "name": "stdout",
     "output_type": "stream",
     "text": [
      "🏃 View run eval_minibatch_3 at: http://localhost:8080/#/experiments/840480777417013393/runs/fa482e5db3024ad8a3978b3dc070c9fc\n",
      "🧪 View experiment at: http://localhost:8080/#/experiments/840480777417013393\n",
      "Average Metric: 18.00 / 35 (51.4%): 100%|██████████| 35/35 [00:27<00:00,  1.29it/s]"
     ]
    },
    {
     "name": "stderr",
     "output_type": "stream",
     "text": [
      "2025/07/06 19:00:32 INFO dspy.evaluate.evaluate: Average Metric: 18 / 35 (51.4%)\n"
     ]
    },
    {
     "name": "stdout",
     "output_type": "stream",
     "text": [
      "\n",
      "🏃 View run eval_minibatch_4 at: http://localhost:8080/#/experiments/840480777417013393/runs/f8fc846c9c42431eb1fd293d942ee74f\n",
      "🧪 View experiment at: http://localhost:8080/#/experiments/840480777417013393\n"
     ]
    },
    {
     "name": "stderr",
     "output_type": "stream",
     "text": [
      "2025/07/06 19:00:32 INFO dspy.teleprompt.mipro_optimizer_v2: Score: 51.43 on minibatch of size 35 with parameters ['Predictor 0: Instruction 2', 'Predictor 0: Few-Shot Set 5', 'Predictor 1: Instruction 2', 'Predictor 1: Few-Shot Set 2'].\n",
      "2025/07/06 19:00:32 INFO dspy.teleprompt.mipro_optimizer_v2: Minibatch scores so far: [22.86, 48.57, 22.86, 54.29, 51.43]\n",
      "2025/07/06 19:00:32 INFO dspy.teleprompt.mipro_optimizer_v2: Full eval scores so far: [29.0]\n",
      "2025/07/06 19:00:32 INFO dspy.teleprompt.mipro_optimizer_v2: Best full score so far: 29.0\n",
      "2025/07/06 19:00:32 INFO dspy.teleprompt.mipro_optimizer_v2: =========================================\n",
      "\n",
      "\n",
      "2025/07/06 19:00:32 INFO dspy.teleprompt.mipro_optimizer_v2: ===== Trial 7 / 25 - Full Evaluation =====\n",
      "2025/07/06 19:00:32 INFO dspy.teleprompt.mipro_optimizer_v2: Doing full eval on next top averaging program (Avg Score: 54.29) from minibatch trials...\n"
     ]
    },
    {
     "name": "stdout",
     "output_type": "stream",
     "text": [
      "Average Metric: 51.00 / 100 (51.0%): 100%|██████████| 100/100 [00:30<00:00,  3.24it/s]"
     ]
    },
    {
     "name": "stderr",
     "output_type": "stream",
     "text": [
      "2025/07/06 19:01:03 INFO dspy.evaluate.evaluate: Average Metric: 51 / 100 (51.0%)\n"
     ]
    },
    {
     "name": "stdout",
     "output_type": "stream",
     "text": [
      "\n"
     ]
    },
    {
     "name": "stderr",
     "output_type": "stream",
     "text": [
      "2025/07/06 19:01:03 INFO dspy.teleprompt.mipro_optimizer_v2: \u001b[92mNew best full eval score!\u001b[0m Score: 51.0\n"
     ]
    },
    {
     "name": "stdout",
     "output_type": "stream",
     "text": [
      "🏃 View run eval_full_1 at: http://localhost:8080/#/experiments/840480777417013393/runs/8cef0585ab93424aae8d8ba7d1223e8e\n",
      "🧪 View experiment at: http://localhost:8080/#/experiments/840480777417013393\n"
     ]
    },
    {
     "name": "stderr",
     "output_type": "stream",
     "text": [
      "2025/07/06 19:01:03 INFO dspy.teleprompt.mipro_optimizer_v2: Full eval scores so far: [29.0, 51.0]\n",
      "2025/07/06 19:01:03 INFO dspy.teleprompt.mipro_optimizer_v2: Best full score so far: 51.0\n",
      "2025/07/06 19:01:03 INFO dspy.teleprompt.mipro_optimizer_v2: =======================\n",
      "2025/07/06 19:01:03 INFO dspy.teleprompt.mipro_optimizer_v2: \n",
      "\n",
      "2025/07/06 19:01:03 INFO dspy.teleprompt.mipro_optimizer_v2: == Trial 8 / 25 - Minibatch ==\n"
     ]
    },
    {
     "name": "stdout",
     "output_type": "stream",
     "text": [
      "Average Metric: 14.00 / 35 (40.0%): 100%|██████████| 35/35 [00:23<00:00,  1.48it/s]"
     ]
    },
    {
     "name": "stderr",
     "output_type": "stream",
     "text": [
      "2025/07/06 19:01:27 INFO dspy.evaluate.evaluate: Average Metric: 14 / 35 (40.0%)\n"
     ]
    },
    {
     "name": "stdout",
     "output_type": "stream",
     "text": [
      "\n",
      "🏃 View run eval_minibatch_5 at: http://localhost:8080/#/experiments/840480777417013393/runs/9b45efcbd0d044b38865a271f2855736\n",
      "🧪 View experiment at: http://localhost:8080/#/experiments/840480777417013393\n"
     ]
    },
    {
     "name": "stderr",
     "output_type": "stream",
     "text": [
      "2025/07/06 19:01:28 INFO dspy.teleprompt.mipro_optimizer_v2: Score: 40.0 on minibatch of size 35 with parameters ['Predictor 0: Instruction 0', 'Predictor 0: Few-Shot Set 5', 'Predictor 1: Instruction 0', 'Predictor 1: Few-Shot Set 0'].\n",
      "2025/07/06 19:01:28 INFO dspy.teleprompt.mipro_optimizer_v2: Minibatch scores so far: [22.86, 48.57, 22.86, 54.29, 51.43, 40.0]\n",
      "2025/07/06 19:01:28 INFO dspy.teleprompt.mipro_optimizer_v2: Full eval scores so far: [29.0, 51.0]\n",
      "2025/07/06 19:01:28 INFO dspy.teleprompt.mipro_optimizer_v2: Best full score so far: 51.0\n",
      "2025/07/06 19:01:28 INFO dspy.teleprompt.mipro_optimizer_v2: =========================================\n",
      "\n",
      "\n",
      "2025/07/06 19:01:28 INFO dspy.teleprompt.mipro_optimizer_v2: == Trial 9 / 25 - Minibatch ==\n"
     ]
    },
    {
     "name": "stdout",
     "output_type": "stream",
     "text": [
      "Average Metric: 18.00 / 35 (51.4%): 100%|██████████| 35/35 [00:25<00:00,  1.37it/s]"
     ]
    },
    {
     "name": "stderr",
     "output_type": "stream",
     "text": [
      "2025/07/06 19:01:54 INFO dspy.evaluate.evaluate: Average Metric: 18 / 35 (51.4%)\n"
     ]
    },
    {
     "name": "stdout",
     "output_type": "stream",
     "text": [
      "\n"
     ]
    },
    {
     "name": "stderr",
     "output_type": "stream",
     "text": [
      "2025/07/06 19:01:54 INFO dspy.teleprompt.mipro_optimizer_v2: Score: 51.43 on minibatch of size 35 with parameters ['Predictor 0: Instruction 1', 'Predictor 0: Few-Shot Set 2', 'Predictor 1: Instruction 2', 'Predictor 1: Few-Shot Set 1'].\n",
      "2025/07/06 19:01:54 INFO dspy.teleprompt.mipro_optimizer_v2: Minibatch scores so far: [22.86, 48.57, 22.86, 54.29, 51.43, 40.0, 51.43]\n",
      "2025/07/06 19:01:54 INFO dspy.teleprompt.mipro_optimizer_v2: Full eval scores so far: [29.0, 51.0]\n",
      "2025/07/06 19:01:54 INFO dspy.teleprompt.mipro_optimizer_v2: Best full score so far: 51.0\n",
      "2025/07/06 19:01:54 INFO dspy.teleprompt.mipro_optimizer_v2: =========================================\n",
      "\n",
      "\n",
      "2025/07/06 19:01:54 INFO dspy.teleprompt.mipro_optimizer_v2: == Trial 10 / 25 - Minibatch ==\n"
     ]
    },
    {
     "name": "stdout",
     "output_type": "stream",
     "text": [
      "🏃 View run eval_minibatch_6 at: http://localhost:8080/#/experiments/840480777417013393/runs/a1dd611aa10d446fb617b6b31e35697f\n",
      "🧪 View experiment at: http://localhost:8080/#/experiments/840480777417013393\n",
      "Average Metric: 8.00 / 35 (22.9%): 100%|██████████| 35/35 [00:29<00:00,  1.18it/s]"
     ]
    },
    {
     "name": "stderr",
     "output_type": "stream",
     "text": [
      "2025/07/06 19:02:24 INFO dspy.evaluate.evaluate: Average Metric: 8 / 35 (22.9%)\n"
     ]
    },
    {
     "name": "stdout",
     "output_type": "stream",
     "text": [
      "\n",
      "🏃 View run eval_minibatch_7 at: http://localhost:8080/#/experiments/840480777417013393/runs/941843b2c6244dccbb34fbef17320708\n",
      "🧪 View experiment at: http://localhost:8080/#/experiments/840480777417013393\n"
     ]
    },
    {
     "name": "stderr",
     "output_type": "stream",
     "text": [
      "2025/07/06 19:02:24 INFO dspy.teleprompt.mipro_optimizer_v2: Score: 22.86 on minibatch of size 35 with parameters ['Predictor 0: Instruction 1', 'Predictor 0: Few-Shot Set 0', 'Predictor 1: Instruction 0', 'Predictor 1: Few-Shot Set 0'].\n",
      "2025/07/06 19:02:24 INFO dspy.teleprompt.mipro_optimizer_v2: Minibatch scores so far: [22.86, 48.57, 22.86, 54.29, 51.43, 40.0, 51.43, 22.86]\n",
      "2025/07/06 19:02:24 INFO dspy.teleprompt.mipro_optimizer_v2: Full eval scores so far: [29.0, 51.0]\n",
      "2025/07/06 19:02:24 INFO dspy.teleprompt.mipro_optimizer_v2: Best full score so far: 51.0\n",
      "2025/07/06 19:02:24 INFO dspy.teleprompt.mipro_optimizer_v2: ==========================================\n",
      "\n",
      "\n",
      "2025/07/06 19:02:24 INFO dspy.teleprompt.mipro_optimizer_v2: == Trial 11 / 25 - Minibatch ==\n"
     ]
    },
    {
     "name": "stdout",
     "output_type": "stream",
     "text": [
      "Average Metric: 8.00 / 35 (22.9%): 100%|██████████| 35/35 [00:29<00:00,  1.20it/s]"
     ]
    },
    {
     "name": "stderr",
     "output_type": "stream",
     "text": [
      "2025/07/06 19:02:54 INFO dspy.evaluate.evaluate: Average Metric: 8 / 35 (22.9%)\n"
     ]
    },
    {
     "name": "stdout",
     "output_type": "stream",
     "text": [
      "\n",
      "🏃 View run eval_minibatch_8 at: http://localhost:8080/#/experiments/840480777417013393/runs/f46fd197979d420da2a9719546902a98\n",
      "🧪 View experiment at: http://localhost:8080/#/experiments/840480777417013393\n"
     ]
    },
    {
     "name": "stderr",
     "output_type": "stream",
     "text": [
      "2025/07/06 19:02:54 INFO dspy.teleprompt.mipro_optimizer_v2: Score: 22.86 on minibatch of size 35 with parameters ['Predictor 0: Instruction 2', 'Predictor 0: Few-Shot Set 1', 'Predictor 1: Instruction 1', 'Predictor 1: Few-Shot Set 4'].\n",
      "2025/07/06 19:02:54 INFO dspy.teleprompt.mipro_optimizer_v2: Minibatch scores so far: [22.86, 48.57, 22.86, 54.29, 51.43, 40.0, 51.43, 22.86, 22.86]\n",
      "2025/07/06 19:02:54 INFO dspy.teleprompt.mipro_optimizer_v2: Full eval scores so far: [29.0, 51.0]\n",
      "2025/07/06 19:02:54 INFO dspy.teleprompt.mipro_optimizer_v2: Best full score so far: 51.0\n",
      "2025/07/06 19:02:54 INFO dspy.teleprompt.mipro_optimizer_v2: ==========================================\n",
      "\n",
      "\n",
      "2025/07/06 19:02:54 INFO dspy.teleprompt.mipro_optimizer_v2: == Trial 12 / 25 - Minibatch ==\n"
     ]
    },
    {
     "name": "stdout",
     "output_type": "stream",
     "text": [
      "Average Metric: 19.00 / 35 (54.3%): 100%|██████████| 35/35 [00:08<00:00,  4.19it/s]"
     ]
    },
    {
     "name": "stderr",
     "output_type": "stream",
     "text": [
      "2025/07/06 19:03:03 INFO dspy.evaluate.evaluate: Average Metric: 19 / 35 (54.3%)\n"
     ]
    },
    {
     "name": "stdout",
     "output_type": "stream",
     "text": [
      "\n",
      "🏃 View run eval_minibatch_9 at: http://localhost:8080/#/experiments/840480777417013393/runs/769b5449e3974ef39d79d45a3b9f6c58\n",
      "🧪 View experiment at: http://localhost:8080/#/experiments/840480777417013393\n"
     ]
    },
    {
     "name": "stderr",
     "output_type": "stream",
     "text": [
      "2025/07/06 19:03:03 INFO dspy.teleprompt.mipro_optimizer_v2: Score: 54.29 on minibatch of size 35 with parameters ['Predictor 0: Instruction 2', 'Predictor 0: Few-Shot Set 5', 'Predictor 1: Instruction 1', 'Predictor 1: Few-Shot Set 2'].\n",
      "2025/07/06 19:03:03 INFO dspy.teleprompt.mipro_optimizer_v2: Minibatch scores so far: [22.86, 48.57, 22.86, 54.29, 51.43, 40.0, 51.43, 22.86, 22.86, 54.29]\n",
      "2025/07/06 19:03:03 INFO dspy.teleprompt.mipro_optimizer_v2: Full eval scores so far: [29.0, 51.0]\n",
      "2025/07/06 19:03:03 INFO dspy.teleprompt.mipro_optimizer_v2: Best full score so far: 51.0\n",
      "2025/07/06 19:03:03 INFO dspy.teleprompt.mipro_optimizer_v2: ==========================================\n",
      "\n",
      "\n",
      "2025/07/06 19:03:03 INFO dspy.teleprompt.mipro_optimizer_v2: ===== Trial 13 / 25 - Full Evaluation =====\n",
      "2025/07/06 19:03:03 INFO dspy.teleprompt.mipro_optimizer_v2: Doing full eval on next top averaging program (Avg Score: 54.29) from minibatch trials...\n"
     ]
    },
    {
     "name": "stdout",
     "output_type": "stream",
     "text": [
      "Average Metric: 48.00 / 100 (48.0%): 100%|██████████| 100/100 [00:16<00:00,  6.03it/s]"
     ]
    },
    {
     "name": "stderr",
     "output_type": "stream",
     "text": [
      "2025/07/06 19:03:20 INFO dspy.evaluate.evaluate: Average Metric: 48 / 100 (48.0%)\n"
     ]
    },
    {
     "name": "stdout",
     "output_type": "stream",
     "text": [
      "\n",
      "🏃 View run eval_full_2 at: http://localhost:8080/#/experiments/840480777417013393/runs/d45f2c98db164a8388166fc7cbba6bd3\n",
      "🧪 View experiment at: http://localhost:8080/#/experiments/840480777417013393\n"
     ]
    },
    {
     "name": "stderr",
     "output_type": "stream",
     "text": [
      "2025/07/06 19:03:20 INFO dspy.teleprompt.mipro_optimizer_v2: Full eval scores so far: [29.0, 51.0, 48.0]\n",
      "2025/07/06 19:03:20 INFO dspy.teleprompt.mipro_optimizer_v2: Best full score so far: 51.0\n",
      "2025/07/06 19:03:20 INFO dspy.teleprompt.mipro_optimizer_v2: =======================\n",
      "2025/07/06 19:03:20 INFO dspy.teleprompt.mipro_optimizer_v2: \n",
      "\n",
      "2025/07/06 19:03:20 INFO dspy.teleprompt.mipro_optimizer_v2: == Trial 14 / 25 - Minibatch ==\n"
     ]
    },
    {
     "name": "stdout",
     "output_type": "stream",
     "text": [
      "Average Metric: 20.00 / 35 (57.1%): 100%|██████████| 35/35 [00:09<00:00,  3.61it/s]"
     ]
    },
    {
     "name": "stderr",
     "output_type": "stream",
     "text": [
      "2025/07/06 19:03:30 INFO dspy.evaluate.evaluate: Average Metric: 20 / 35 (57.1%)\n"
     ]
    },
    {
     "name": "stdout",
     "output_type": "stream",
     "text": [
      "\n"
     ]
    },
    {
     "name": "stderr",
     "output_type": "stream",
     "text": [
      "2025/07/06 19:03:31 INFO dspy.teleprompt.mipro_optimizer_v2: Score: 57.14 on minibatch of size 35 with parameters ['Predictor 0: Instruction 2', 'Predictor 0: Few-Shot Set 5', 'Predictor 1: Instruction 1', 'Predictor 1: Few-Shot Set 3'].\n",
      "2025/07/06 19:03:31 INFO dspy.teleprompt.mipro_optimizer_v2: Minibatch scores so far: [22.86, 48.57, 22.86, 54.29, 51.43, 40.0, 51.43, 22.86, 22.86, 54.29, 57.14]\n",
      "2025/07/06 19:03:31 INFO dspy.teleprompt.mipro_optimizer_v2: Full eval scores so far: [29.0, 51.0, 48.0]\n",
      "2025/07/06 19:03:31 INFO dspy.teleprompt.mipro_optimizer_v2: Best full score so far: 51.0\n",
      "2025/07/06 19:03:31 INFO dspy.teleprompt.mipro_optimizer_v2: ==========================================\n",
      "\n",
      "\n",
      "2025/07/06 19:03:31 INFO dspy.teleprompt.mipro_optimizer_v2: == Trial 15 / 25 - Minibatch ==\n"
     ]
    },
    {
     "name": "stdout",
     "output_type": "stream",
     "text": [
      "🏃 View run eval_minibatch_10 at: http://localhost:8080/#/experiments/840480777417013393/runs/672481b6dca74ac980bd9c6cb7d935c7\n",
      "🧪 View experiment at: http://localhost:8080/#/experiments/840480777417013393\n",
      "Average Metric: 16.00 / 35 (45.7%): 100%|██████████| 35/35 [00:19<00:00,  1.77it/s]"
     ]
    },
    {
     "name": "stderr",
     "output_type": "stream",
     "text": [
      "2025/07/06 19:03:51 INFO dspy.evaluate.evaluate: Average Metric: 16 / 35 (45.7%)\n"
     ]
    },
    {
     "name": "stdout",
     "output_type": "stream",
     "text": [
      "\n",
      "🏃 View run eval_minibatch_11 at: http://localhost:8080/#/experiments/840480777417013393/runs/651c25dfe4e4427195ff18178c45a09a\n",
      "🧪 View experiment at: http://localhost:8080/#/experiments/840480777417013393\n"
     ]
    },
    {
     "name": "stderr",
     "output_type": "stream",
     "text": [
      "2025/07/06 19:03:51 INFO dspy.teleprompt.mipro_optimizer_v2: Score: 45.71 on minibatch of size 35 with parameters ['Predictor 0: Instruction 0', 'Predictor 0: Few-Shot Set 5', 'Predictor 1: Instruction 1', 'Predictor 1: Few-Shot Set 3'].\n",
      "2025/07/06 19:03:51 INFO dspy.teleprompt.mipro_optimizer_v2: Minibatch scores so far: [22.86, 48.57, 22.86, 54.29, 51.43, 40.0, 51.43, 22.86, 22.86, 54.29, 57.14, 45.71]\n",
      "2025/07/06 19:03:51 INFO dspy.teleprompt.mipro_optimizer_v2: Full eval scores so far: [29.0, 51.0, 48.0]\n",
      "2025/07/06 19:03:51 INFO dspy.teleprompt.mipro_optimizer_v2: Best full score so far: 51.0\n",
      "2025/07/06 19:03:51 INFO dspy.teleprompt.mipro_optimizer_v2: ==========================================\n",
      "\n",
      "\n",
      "2025/07/06 19:03:51 INFO dspy.teleprompt.mipro_optimizer_v2: == Trial 16 / 25 - Minibatch ==\n"
     ]
    },
    {
     "name": "stdout",
     "output_type": "stream",
     "text": [
      "Average Metric: 16.00 / 35 (45.7%): 100%|██████████| 35/35 [00:20<00:00,  1.73it/s]"
     ]
    },
    {
     "name": "stderr",
     "output_type": "stream",
     "text": [
      "2025/07/06 19:04:12 INFO dspy.evaluate.evaluate: Average Metric: 16 / 35 (45.7%)\n"
     ]
    },
    {
     "name": "stdout",
     "output_type": "stream",
     "text": [
      "\n",
      "🏃 View run eval_minibatch_12 at: http://localhost:8080/#/experiments/840480777417013393/runs/cc356dd22a1c49edb409ef340ad946ad\n",
      "🧪 View experiment at: http://localhost:8080/#/experiments/840480777417013393\n"
     ]
    },
    {
     "name": "stderr",
     "output_type": "stream",
     "text": [
      "2025/07/06 19:04:12 INFO dspy.teleprompt.mipro_optimizer_v2: Score: 45.71 on minibatch of size 35 with parameters ['Predictor 0: Instruction 1', 'Predictor 0: Few-Shot Set 5', 'Predictor 1: Instruction 1', 'Predictor 1: Few-Shot Set 4'].\n",
      "2025/07/06 19:04:12 INFO dspy.teleprompt.mipro_optimizer_v2: Minibatch scores so far: [22.86, 48.57, 22.86, 54.29, 51.43, 40.0, 51.43, 22.86, 22.86, 54.29, 57.14, 45.71, 45.71]\n",
      "2025/07/06 19:04:12 INFO dspy.teleprompt.mipro_optimizer_v2: Full eval scores so far: [29.0, 51.0, 48.0]\n",
      "2025/07/06 19:04:12 INFO dspy.teleprompt.mipro_optimizer_v2: Best full score so far: 51.0\n",
      "2025/07/06 19:04:12 INFO dspy.teleprompt.mipro_optimizer_v2: ==========================================\n",
      "\n",
      "\n",
      "2025/07/06 19:04:12 INFO dspy.teleprompt.mipro_optimizer_v2: == Trial 17 / 25 - Minibatch ==\n"
     ]
    },
    {
     "name": "stdout",
     "output_type": "stream",
     "text": [
      "Average Metric: 15.00 / 35 (42.9%): 100%|██████████| 35/35 [00:21<00:00,  1.63it/s]"
     ]
    },
    {
     "name": "stderr",
     "output_type": "stream",
     "text": [
      "2025/07/06 19:04:34 INFO dspy.evaluate.evaluate: Average Metric: 15 / 35 (42.9%)\n"
     ]
    },
    {
     "name": "stdout",
     "output_type": "stream",
     "text": [
      "\n"
     ]
    },
    {
     "name": "stderr",
     "output_type": "stream",
     "text": [
      "2025/07/06 19:04:34 INFO dspy.teleprompt.mipro_optimizer_v2: Score: 42.86 on minibatch of size 35 with parameters ['Predictor 0: Instruction 2', 'Predictor 0: Few-Shot Set 4', 'Predictor 1: Instruction 1', 'Predictor 1: Few-Shot Set 3'].\n",
      "2025/07/06 19:04:34 INFO dspy.teleprompt.mipro_optimizer_v2: Minibatch scores so far: [22.86, 48.57, 22.86, 54.29, 51.43, 40.0, 51.43, 22.86, 22.86, 54.29, 57.14, 45.71, 45.71, 42.86]\n",
      "2025/07/06 19:04:34 INFO dspy.teleprompt.mipro_optimizer_v2: Full eval scores so far: [29.0, 51.0, 48.0]\n",
      "2025/07/06 19:04:34 INFO dspy.teleprompt.mipro_optimizer_v2: Best full score so far: 51.0\n",
      "2025/07/06 19:04:34 INFO dspy.teleprompt.mipro_optimizer_v2: ==========================================\n",
      "\n",
      "\n",
      "2025/07/06 19:04:34 INFO dspy.teleprompt.mipro_optimizer_v2: == Trial 18 / 25 - Minibatch ==\n"
     ]
    },
    {
     "name": "stdout",
     "output_type": "stream",
     "text": [
      "🏃 View run eval_minibatch_13 at: http://localhost:8080/#/experiments/840480777417013393/runs/c085aac4ac7545788eb7df1018bf9227\n",
      "🧪 View experiment at: http://localhost:8080/#/experiments/840480777417013393\n",
      "Average Metric: 17.00 / 35 (48.6%): 100%|██████████| 35/35 [00:24<00:00,  1.45it/s]"
     ]
    },
    {
     "name": "stderr",
     "output_type": "stream",
     "text": [
      "2025/07/06 19:04:58 INFO dspy.evaluate.evaluate: Average Metric: 17 / 35 (48.6%)\n"
     ]
    },
    {
     "name": "stdout",
     "output_type": "stream",
     "text": [
      "\n",
      "🏃 View run eval_minibatch_14 at: http://localhost:8080/#/experiments/840480777417013393/runs/4fa7bfc7f9434ed3a8dfb5cee1272020\n",
      "🧪 View experiment at: http://localhost:8080/#/experiments/840480777417013393\n"
     ]
    },
    {
     "name": "stderr",
     "output_type": "stream",
     "text": [
      "2025/07/06 19:04:59 INFO dspy.teleprompt.mipro_optimizer_v2: Score: 48.57 on minibatch of size 35 with parameters ['Predictor 0: Instruction 2', 'Predictor 0: Few-Shot Set 0', 'Predictor 1: Instruction 1', 'Predictor 1: Few-Shot Set 5'].\n",
      "2025/07/06 19:04:59 INFO dspy.teleprompt.mipro_optimizer_v2: Minibatch scores so far: [22.86, 48.57, 22.86, 54.29, 51.43, 40.0, 51.43, 22.86, 22.86, 54.29, 57.14, 45.71, 45.71, 42.86, 48.57]\n",
      "2025/07/06 19:04:59 INFO dspy.teleprompt.mipro_optimizer_v2: Full eval scores so far: [29.0, 51.0, 48.0]\n",
      "2025/07/06 19:04:59 INFO dspy.teleprompt.mipro_optimizer_v2: Best full score so far: 51.0\n",
      "2025/07/06 19:04:59 INFO dspy.teleprompt.mipro_optimizer_v2: ==========================================\n",
      "\n",
      "\n",
      "2025/07/06 19:04:59 INFO dspy.teleprompt.mipro_optimizer_v2: ===== Trial 19 / 25 - Full Evaluation =====\n",
      "2025/07/06 19:04:59 INFO dspy.teleprompt.mipro_optimizer_v2: Doing full eval on next top averaging program (Avg Score: 57.14) from minibatch trials...\n"
     ]
    },
    {
     "name": "stdout",
     "output_type": "stream",
     "text": [
      "Average Metric: 49.00 / 100 (49.0%): 100%|██████████| 100/100 [00:19<00:00,  5.09it/s]"
     ]
    },
    {
     "name": "stderr",
     "output_type": "stream",
     "text": [
      "2025/07/06 19:05:19 INFO dspy.evaluate.evaluate: Average Metric: 49 / 100 (49.0%)\n"
     ]
    },
    {
     "name": "stdout",
     "output_type": "stream",
     "text": [
      "\n",
      "🏃 View run eval_full_3 at: http://localhost:8080/#/experiments/840480777417013393/runs/e3da6038c70a49e2a663c09da71de29d\n",
      "🧪 View experiment at: http://localhost:8080/#/experiments/840480777417013393\n"
     ]
    },
    {
     "name": "stderr",
     "output_type": "stream",
     "text": [
      "2025/07/06 19:05:19 INFO dspy.teleprompt.mipro_optimizer_v2: Full eval scores so far: [29.0, 51.0, 48.0, 49.0]\n",
      "2025/07/06 19:05:19 INFO dspy.teleprompt.mipro_optimizer_v2: Best full score so far: 51.0\n",
      "2025/07/06 19:05:19 INFO dspy.teleprompt.mipro_optimizer_v2: =======================\n",
      "2025/07/06 19:05:19 INFO dspy.teleprompt.mipro_optimizer_v2: \n",
      "\n",
      "2025/07/06 19:05:19 INFO dspy.teleprompt.mipro_optimizer_v2: == Trial 20 / 25 - Minibatch ==\n"
     ]
    },
    {
     "name": "stdout",
     "output_type": "stream",
     "text": [
      "Average Metric: 18.00 / 35 (51.4%): 100%|██████████| 35/35 [00:08<00:00,  4.13it/s]"
     ]
    },
    {
     "name": "stderr",
     "output_type": "stream",
     "text": [
      "2025/07/06 19:05:28 INFO dspy.evaluate.evaluate: Average Metric: 18 / 35 (51.4%)\n"
     ]
    },
    {
     "name": "stdout",
     "output_type": "stream",
     "text": [
      "\n",
      "🏃 View run eval_minibatch_15 at: http://localhost:8080/#/experiments/840480777417013393/runs/afa410074677472a935d6552b7fe8895\n",
      "🧪 View experiment at: http://localhost:8080/#/experiments/840480777417013393\n"
     ]
    },
    {
     "name": "stderr",
     "output_type": "stream",
     "text": [
      "2025/07/06 19:05:28 INFO dspy.teleprompt.mipro_optimizer_v2: Score: 51.43 on minibatch of size 35 with parameters ['Predictor 0: Instruction 2', 'Predictor 0: Few-Shot Set 3', 'Predictor 1: Instruction 0', 'Predictor 1: Few-Shot Set 4'].\n",
      "2025/07/06 19:05:28 INFO dspy.teleprompt.mipro_optimizer_v2: Minibatch scores so far: [22.86, 48.57, 22.86, 54.29, 51.43, 40.0, 51.43, 22.86, 22.86, 54.29, 57.14, 45.71, 45.71, 42.86, 48.57, 51.43]\n",
      "2025/07/06 19:05:28 INFO dspy.teleprompt.mipro_optimizer_v2: Full eval scores so far: [29.0, 51.0, 48.0, 49.0]\n",
      "2025/07/06 19:05:28 INFO dspy.teleprompt.mipro_optimizer_v2: Best full score so far: 51.0\n",
      "2025/07/06 19:05:28 INFO dspy.teleprompt.mipro_optimizer_v2: ==========================================\n",
      "\n",
      "\n",
      "2025/07/06 19:05:28 INFO dspy.teleprompt.mipro_optimizer_v2: == Trial 21 / 25 - Minibatch ==\n"
     ]
    },
    {
     "name": "stdout",
     "output_type": "stream",
     "text": [
      "Average Metric: 20.00 / 35 (57.1%): 100%|██████████| 35/35 [00:05<00:00,  6.88it/s]"
     ]
    },
    {
     "name": "stderr",
     "output_type": "stream",
     "text": [
      "2025/07/06 19:05:33 INFO dspy.evaluate.evaluate: Average Metric: 20 / 35 (57.1%)\n"
     ]
    },
    {
     "name": "stdout",
     "output_type": "stream",
     "text": [
      "\n",
      "🏃 View run eval_minibatch_16 at: http://localhost:8080/#/experiments/840480777417013393/runs/ffb9edd3eb5a440b9d46f8ebeb2433c5\n",
      "🧪 View experiment at: http://localhost:8080/#/experiments/840480777417013393\n"
     ]
    },
    {
     "name": "stderr",
     "output_type": "stream",
     "text": [
      "2025/07/06 19:05:34 INFO dspy.teleprompt.mipro_optimizer_v2: Score: 57.14 on minibatch of size 35 with parameters ['Predictor 0: Instruction 2', 'Predictor 0: Few-Shot Set 5', 'Predictor 1: Instruction 1', 'Predictor 1: Few-Shot Set 3'].\n",
      "2025/07/06 19:05:34 INFO dspy.teleprompt.mipro_optimizer_v2: Minibatch scores so far: [22.86, 48.57, 22.86, 54.29, 51.43, 40.0, 51.43, 22.86, 22.86, 54.29, 57.14, 45.71, 45.71, 42.86, 48.57, 51.43, 57.14]\n",
      "2025/07/06 19:05:34 INFO dspy.teleprompt.mipro_optimizer_v2: Full eval scores so far: [29.0, 51.0, 48.0, 49.0]\n",
      "2025/07/06 19:05:34 INFO dspy.teleprompt.mipro_optimizer_v2: Best full score so far: 51.0\n",
      "2025/07/06 19:05:34 INFO dspy.teleprompt.mipro_optimizer_v2: ==========================================\n",
      "\n",
      "\n",
      "2025/07/06 19:05:34 INFO dspy.teleprompt.mipro_optimizer_v2: == Trial 22 / 25 - Minibatch ==\n"
     ]
    },
    {
     "name": "stdout",
     "output_type": "stream",
     "text": [
      "Average Metric: 17.00 / 35 (48.6%): 100%|██████████| 35/35 [00:05<00:00,  6.89it/s]"
     ]
    },
    {
     "name": "stderr",
     "output_type": "stream",
     "text": [
      "2025/07/06 19:05:39 INFO dspy.evaluate.evaluate: Average Metric: 17 / 35 (48.6%)\n"
     ]
    },
    {
     "name": "stdout",
     "output_type": "stream",
     "text": [
      "\n",
      "🏃 View run eval_minibatch_17 at: http://localhost:8080/#/experiments/840480777417013393/runs/8e94dbbb6efd42f99806d8633b360686\n",
      "🧪 View experiment at: http://localhost:8080/#/experiments/840480777417013393\n"
     ]
    },
    {
     "name": "stderr",
     "output_type": "stream",
     "text": [
      "2025/07/06 19:05:39 INFO dspy.teleprompt.mipro_optimizer_v2: Score: 48.57 on minibatch of size 35 with parameters ['Predictor 0: Instruction 2', 'Predictor 0: Few-Shot Set 5', 'Predictor 1: Instruction 1', 'Predictor 1: Few-Shot Set 3'].\n",
      "2025/07/06 19:05:39 INFO dspy.teleprompt.mipro_optimizer_v2: Minibatch scores so far: [22.86, 48.57, 22.86, 54.29, 51.43, 40.0, 51.43, 22.86, 22.86, 54.29, 57.14, 45.71, 45.71, 42.86, 48.57, 51.43, 57.14, 48.57]\n",
      "2025/07/06 19:05:39 INFO dspy.teleprompt.mipro_optimizer_v2: Full eval scores so far: [29.0, 51.0, 48.0, 49.0]\n",
      "2025/07/06 19:05:39 INFO dspy.teleprompt.mipro_optimizer_v2: Best full score so far: 51.0\n",
      "2025/07/06 19:05:39 INFO dspy.teleprompt.mipro_optimizer_v2: ==========================================\n",
      "\n",
      "\n",
      "2025/07/06 19:05:39 INFO dspy.teleprompt.mipro_optimizer_v2: == Trial 23 / 25 - Minibatch ==\n"
     ]
    },
    {
     "name": "stdout",
     "output_type": "stream",
     "text": [
      "Average Metric: 15.00 / 35 (42.9%): 100%|██████████| 35/35 [00:26<00:00,  1.33it/s]"
     ]
    },
    {
     "name": "stderr",
     "output_type": "stream",
     "text": [
      "2025/07/06 19:06:06 INFO dspy.evaluate.evaluate: Average Metric: 15 / 35 (42.9%)\n"
     ]
    },
    {
     "name": "stdout",
     "output_type": "stream",
     "text": [
      "\n",
      "🏃 View run eval_minibatch_18 at: http://localhost:8080/#/experiments/840480777417013393/runs/875e06934ade4989b348911f237573a8\n",
      "🧪 View experiment at: http://localhost:8080/#/experiments/840480777417013393\n"
     ]
    },
    {
     "name": "stderr",
     "output_type": "stream",
     "text": [
      "2025/07/06 19:06:06 INFO dspy.teleprompt.mipro_optimizer_v2: Score: 42.86 on minibatch of size 35 with parameters ['Predictor 0: Instruction 2', 'Predictor 0: Few-Shot Set 1', 'Predictor 1: Instruction 2', 'Predictor 1: Few-Shot Set 3'].\n",
      "2025/07/06 19:06:06 INFO dspy.teleprompt.mipro_optimizer_v2: Minibatch scores so far: [22.86, 48.57, 22.86, 54.29, 51.43, 40.0, 51.43, 22.86, 22.86, 54.29, 57.14, 45.71, 45.71, 42.86, 48.57, 51.43, 57.14, 48.57, 42.86]\n",
      "2025/07/06 19:06:06 INFO dspy.teleprompt.mipro_optimizer_v2: Full eval scores so far: [29.0, 51.0, 48.0, 49.0]\n",
      "2025/07/06 19:06:06 INFO dspy.teleprompt.mipro_optimizer_v2: Best full score so far: 51.0\n",
      "2025/07/06 19:06:06 INFO dspy.teleprompt.mipro_optimizer_v2: ==========================================\n",
      "\n",
      "\n",
      "2025/07/06 19:06:06 INFO dspy.teleprompt.mipro_optimizer_v2: == Trial 24 / 25 - Minibatch ==\n"
     ]
    },
    {
     "name": "stdout",
     "output_type": "stream",
     "text": [
      "Average Metric: 14.00 / 35 (40.0%): 100%|██████████| 35/35 [00:05<00:00,  6.70it/s]"
     ]
    },
    {
     "name": "stderr",
     "output_type": "stream",
     "text": [
      "2025/07/06 19:06:12 INFO dspy.evaluate.evaluate: Average Metric: 14 / 35 (40.0%)\n"
     ]
    },
    {
     "name": "stdout",
     "output_type": "stream",
     "text": [
      "\n",
      "🏃 View run eval_minibatch_19 at: http://localhost:8080/#/experiments/840480777417013393/runs/4dc955f5f819419bba32af651e5808ef\n",
      "🧪 View experiment at: http://localhost:8080/#/experiments/840480777417013393\n"
     ]
    },
    {
     "name": "stderr",
     "output_type": "stream",
     "text": [
      "2025/07/06 19:06:12 INFO dspy.teleprompt.mipro_optimizer_v2: Score: 40.0 on minibatch of size 35 with parameters ['Predictor 0: Instruction 2', 'Predictor 0: Few-Shot Set 5', 'Predictor 1: Instruction 1', 'Predictor 1: Few-Shot Set 4'].\n",
      "2025/07/06 19:06:12 INFO dspy.teleprompt.mipro_optimizer_v2: Minibatch scores so far: [22.86, 48.57, 22.86, 54.29, 51.43, 40.0, 51.43, 22.86, 22.86, 54.29, 57.14, 45.71, 45.71, 42.86, 48.57, 51.43, 57.14, 48.57, 42.86, 40.0]\n",
      "2025/07/06 19:06:12 INFO dspy.teleprompt.mipro_optimizer_v2: Full eval scores so far: [29.0, 51.0, 48.0, 49.0]\n",
      "2025/07/06 19:06:12 INFO dspy.teleprompt.mipro_optimizer_v2: Best full score so far: 51.0\n",
      "2025/07/06 19:06:12 INFO dspy.teleprompt.mipro_optimizer_v2: ==========================================\n",
      "\n",
      "\n",
      "2025/07/06 19:06:12 INFO dspy.teleprompt.mipro_optimizer_v2: ===== Trial 25 / 25 - Full Evaluation =====\n",
      "2025/07/06 19:06:12 INFO dspy.teleprompt.mipro_optimizer_v2: Doing full eval on next top averaging program (Avg Score: 51.43) from minibatch trials...\n"
     ]
    },
    {
     "name": "stdout",
     "output_type": "stream",
     "text": [
      "Average Metric: 47.00 / 100 (47.0%): 100%|██████████| 100/100 [00:18<00:00,  5.51it/s]"
     ]
    },
    {
     "name": "stderr",
     "output_type": "stream",
     "text": [
      "2025/07/06 19:06:31 INFO dspy.evaluate.evaluate: Average Metric: 47 / 100 (47.0%)\n"
     ]
    },
    {
     "name": "stdout",
     "output_type": "stream",
     "text": [
      "\n",
      "🏃 View run eval_full_4 at: http://localhost:8080/#/experiments/840480777417013393/runs/184e5b87215b48489d82e6e2b0f03df3\n",
      "🧪 View experiment at: http://localhost:8080/#/experiments/840480777417013393\n"
     ]
    },
    {
     "name": "stderr",
     "output_type": "stream",
     "text": [
      "2025/07/06 19:06:31 INFO dspy.teleprompt.mipro_optimizer_v2: Full eval scores so far: [29.0, 51.0, 48.0, 49.0, 47.0]\n",
      "2025/07/06 19:06:31 INFO dspy.teleprompt.mipro_optimizer_v2: Best full score so far: 51.0\n",
      "2025/07/06 19:06:31 INFO dspy.teleprompt.mipro_optimizer_v2: =======================\n",
      "2025/07/06 19:06:31 INFO dspy.teleprompt.mipro_optimizer_v2: \n",
      "\n",
      "2025/07/06 19:06:31 INFO dspy.teleprompt.mipro_optimizer_v2: Returning best identified program with score 51.0!\n"
     ]
    },
    {
     "data": {
      "application/vnd.jupyter.widget-view+json": {
       "model_id": "d4812d95e1c6413fb75b62dfb9fc83a1",
       "version_major": 2,
       "version_minor": 0
      },
      "text/plain": [
       "Downloading artifacts:   0%|          | 0/1 [00:00<?, ?it/s]"
      ]
     },
     "metadata": {},
     "output_type": "display_data"
    },
    {
     "name": "stdout",
     "output_type": "stream",
     "text": [
      "🏃 View run rogue-calf-148 at: http://localhost:8080/#/experiments/840480777417013393/runs/4fb3da48f6a84886bb2d96948876c41e\n",
      "🧪 View experiment at: http://localhost:8080/#/experiments/840480777417013393\n"
     ]
    },
    {
     "data": {
      "text/html": [
       "\n",
       "<div>\n",
       "  <style scoped>\n",
       "  button {\n",
       "    border: none;\n",
       "    border-radius: 4px;\n",
       "    background-color: rgb(34, 114, 180);\n",
       "    font-family: -apple-system, \"system-ui\", \"Segoe UI\", Roboto, \"Helvetica Neue\", Arial;\n",
       "    font-size: 13px;\n",
       "    color: white;\n",
       "    margin-top: 8px;\n",
       "    margin-bottom: 8px;\n",
       "    padding: 8px 16px;\n",
       "    cursor: pointer;\n",
       "  }\n",
       "  button:hover {\n",
       "    background-color: rgb(66, 153, 224);\n",
       "  }\n",
       "  </style>\n",
       "  <button\n",
       "    onclick=\"\n",
       "        const display = this.nextElementSibling.style.display;\n",
       "        const isCollapsed = display === 'none';\n",
       "        this.nextElementSibling.style.display = isCollapsed ? null : 'none';\n",
       "\n",
       "        const verb = isCollapsed ? 'Collapse' : 'Expand';\n",
       "        this.innerText = `${verb} MLflow Trace`;\n",
       "    \"\n",
       "  >Collapse MLflow Trace</button>\n",
       "  <iframe\n",
       "    id=\"trace-renderer\"\n",
       "    style=\"width: 100%; height: 500px; border: none; resize: vertical;\"\n",
       "    src=\"http://localhost:8080/static-files/lib/notebook-trace-renderer/index.html?trace_id=67e7671d74134d11b8e68a0a13aaa450&amp;experiment_id=840480777417013393&amp;trace_id=aa49eaf53be64103ad400a26f5d63e89&amp;experiment_id=840480777417013393&amp;trace_id=cccaf0dc5ca34725ab522ba5fe25db38&amp;experiment_id=840480777417013393&amp;trace_id=4c85fb5702454d99ad8f3ff312359608&amp;experiment_id=840480777417013393&amp;trace_id=75f90e27e0e441188a8c3716ec4d275a&amp;experiment_id=840480777417013393&amp;trace_id=1ed4c174f4444c1797f190b79dba92a2&amp;experiment_id=840480777417013393&amp;trace_id=b1ebf4fc4cee43a2a70b76e46a2ffeb8&amp;experiment_id=840480777417013393&amp;trace_id=15fd71fc2680475c9557a46b446b8dab&amp;experiment_id=840480777417013393&amp;trace_id=efd6800d7f834c118275ca20dd0e81fb&amp;experiment_id=840480777417013393&amp;trace_id=f5fe4ca8a6104194beb066703d0e1717&amp;experiment_id=840480777417013393&amp;version=3.1.1\"\n",
       "  />\n",
       "</div>\n"
      ],
      "text/plain": [
       "[Trace(trace_id=67e7671d74134d11b8e68a0a13aaa450), Trace(trace_id=aa49eaf53be64103ad400a26f5d63e89), Trace(trace_id=cccaf0dc5ca34725ab522ba5fe25db38), Trace(trace_id=4c85fb5702454d99ad8f3ff312359608), Trace(trace_id=75f90e27e0e441188a8c3716ec4d275a), Trace(trace_id=1ed4c174f4444c1797f190b79dba92a2), Trace(trace_id=b1ebf4fc4cee43a2a70b76e46a2ffeb8), Trace(trace_id=15fd71fc2680475c9557a46b446b8dab), Trace(trace_id=efd6800d7f834c118275ca20dd0e81fb), Trace(trace_id=f5fe4ca8a6104194beb066703d0e1717)]"
      ]
     },
     "metadata": {},
     "output_type": "display_data"
    }
   ],
   "source": [
    "optimized_react = tp.compile(\n",
    "    react,\n",
    "    trainset=trainset,\n",
    "    valset=valset,\n",
    "    requires_permission_to_run=False,\n",
    ")"
   ]
  },
  {
   "cell_type": "code",
   "execution_count": null,
   "id": "6d4a455e-796e-4692-8a52-b97cb32d30b8",
   "metadata": {
    "height": 30
   },
   "outputs": [],
   "source": [
    "optimized_react.react.signature"
   ]
  },
  {
   "cell_type": "code",
   "execution_count": 21,
   "id": "2652275a-b2a2-4f6e-ba97-7683da764f2d",
   "metadata": {
    "height": 30
   },
   "outputs": [
    {
     "data": {
      "text/plain": [
       "[Example({'augmented': True, 'question': 'Konnichiwa was launched in a broadcast that was streamed by the platform that was founded in what city in 2010?', 'trajectory': '[[ ## thought_0 ## ]]\\nI need to find out which platform was founded in 2010 and in what city. This information will help me answer the question about the broadcast of Konnichiwa. I will search for platforms that were established in 2010.\\n\\n[[ ## tool_name_0 ## ]]\\nsearch_wikipedia\\n\\n[[ ## tool_args_0 ## ]]\\n{\"query\": \"platform founded in 2010\"}\\n\\n[[ ## observation_0 ## ]]\\n[1] «Genius Crowds | Genius Crowds was a crowdsourcing platform founded in 2010 on the principles of collaboration and sharing. It served as a platform for everyday people – students, women, men, moms, dads, DIY\\'ers, cooks, and tinkerers - who have a product idea that they don\\'t know how to bring to market.»\\n[2] «Seedups | SeedUps is an equity crowdfunding platform for seed investment to launch and focuses on startup companies. It was founded by Michael Faulkner and Gavin Gallagher in 2010 and is aimed at tech startups in the USA, Ireland and the UK. Since launch over 2200 tech businesses have registered. It is only available to accredited or sophisticated investors. The platform is headquartered in Republic of Ireland with offices in the UK, US and Canada. Each funding project on SeedUps lasts for the same duration, namely 180 days.»\\n[3] «Sponsume | Sponsume was an online multicurrency crowd funding platform founded by French entrepreneur Gregory Vincent in 2010. Its headquarters are in London, United Kingdom.»\\n\\n[[ ## thought_1 ## ]]\\nI found several platforms founded in 2010, including SeedUps and Sponsume. Sponsume is headquartered in London, which is a potential answer to the question. I need to confirm if Sponsume is indeed the platform that streamed Konnichiwa or if there is another platform that fits better. I will search for more information about Konnichiwa and its broadcasting platform.\\n\\n[[ ## tool_name_1 ## ]]\\nsearch_wikipedia\\n\\n[[ ## tool_args_1 ## ]]\\n{\"query\": \"Konnichiwa broadcast platform\"}\\n\\n[[ ## observation_1 ## ]]\\n[1] «Konnichiwa (Skepta album) | Konnichiwa is the fourth studio album by British grime artist Skepta. After numerous delays, it was released on 6 May 2016 by Boy Better Know. The album was launched with a party in Tokyo on 5 May 2016 arranged and broadcast globally by live streaming platform Boiler Room, featuring Skepta performing the whole album live with supporting performances from Japanese artists Kohh, Dutch Montana, Loota, and DJ Riki.»\\n[2] «Konnichiwa (Youmou &amp; Ohana album) | Konnichiwa (Japanese: こんにちは。) is a 2008 album by Youmou & Ohana. The first track, \"Falling\", features the music of Corinne Bailey Rae.»\\n[3] «Konnichiwa (The Superions song) | \"Konnichiwa\" is the seventh single by The Superions, a side project of Fred Schneider of The B-52s. The single was released to iTunes Stores as a digital download on May 12, 2014 and is the first single to be released from a collection titled \"The Vertical Mind\".»', 'next_thought': 'I found that Konnichiwa was launched with a party in Tokyo and broadcast globally by Boiler Room. I need to find out where Boiler Room was founded to answer the question about the city.', 'next_tool_name': 'search_wikipedia', 'next_tool_args': {'query': 'Boiler Room founding city'}}) (input_keys=None),\n",
       " Example({'question': 'In addition to Ryan Gosling, Angourie Rice and the actor born on October 11, 1977, who else starred in The Nice Guys?', 'answer': 'Russell Crowe'}) (input_keys={'question'}),\n",
       " Example({'question': 'Which publication has been published by a greater number of groups, House Beautiful or Smithsonian?', 'answer': 'House Beautiful'}) (input_keys={'question'}),\n",
       " Example({'question': 'In what year was the creator of the character that appeared in a series of films directed by Stephen Norrington, Guillermo del Toro and Goyer born?', 'answer': '1926'}) (input_keys={'question'})]"
      ]
     },
     "execution_count": 21,
     "metadata": {},
     "output_type": "execute_result"
    }
   ],
   "source": [
    "optimized_react.react.demos"
   ]
  },
  {
   "cell_type": "code",
   "execution_count": 22,
   "id": "f5ebd0e2-8bf3-4df1-95b0-34f40448217e",
   "metadata": {
    "height": 132
   },
   "outputs": [],
   "source": [
    "evaluator = dspy.Evaluate(\n",
    "    metric=dspy.evaluate.answer_exact_match,\n",
    "    devset=valset,\n",
    "    display_table=True,\n",
    "    display_progress=True,\n",
    "    num_threads=24,\n",
    ")"
   ]
  },
  {
   "cell_type": "code",
   "execution_count": 23,
   "id": "ba7c1340-0e74-4bb0-9fe4-b5eb7b4b279a",
   "metadata": {
    "height": 47
   },
   "outputs": [
    {
     "name": "stdout",
     "output_type": "stream",
     "text": [
      "Average Metric: 29.00 / 100 (29.0%): 100%|██████████| 100/100 [00:12<00:00,  7.95it/s]"
     ]
    },
    {
     "name": "stderr",
     "output_type": "stream",
     "text": [
      "2025/07/06 19:06:47 INFO dspy.evaluate.evaluate: Average Metric: 29 / 100 (29.0%)\n"
     ]
    },
    {
     "name": "stdout",
     "output_type": "stream",
     "text": [
      "\n"
     ]
    },
    {
     "data": {
      "application/vnd.microsoft.datawrangler.viewer.v0+json": {
       "columns": [
        {
         "name": "index",
         "rawType": "int64",
         "type": "integer"
        },
        {
         "name": "question",
         "rawType": "object",
         "type": "string"
        },
        {
         "name": "example_answer",
         "rawType": "object",
         "type": "string"
        },
        {
         "name": "trajectory",
         "rawType": "object",
         "type": "string"
        },
        {
         "name": "reasoning",
         "rawType": "object",
         "type": "string"
        },
        {
         "name": "pred_answer",
         "rawType": "object",
         "type": "string"
        },
        {
         "name": "answer_exact_match",
         "rawType": "object",
         "type": "string"
        }
       ],
       "ref": "932e2ee7-3965-4f67-8a19-ef2df247eb40",
       "rows": [
        [
         "0",
         "What movie did \"the king of cool\" play in with Bud Ekins as his stunt double?",
         "\"The Great Escape\"",
         "{'thought_0': 'I need to find out which movie \"the king of cool\" starred in alongside Bud Ekins as his stunt double. This likely refers to...",
         "Bud Ekins served as Steve McQueen's stunt double in the classic film \"The Great Escape,\" where he performed one of the most iconic motorcycle stunts...",
         "The Great Escape",
         "✔️ [True]"
        ],
        [
         "1",
         "whos family had their own reality tv show. Robert Kardashian or Manvel Gamburyan?",
         "their family reality television series",
         "{'thought_0': 'I need to determine which individual, Robert Kardashian or Manvel Gamburyan, had a family that starred in a reality TV show. Robert Kardashian is...",
         "Robert Kardashian's family is well-known for their reality TV show \"Keeping Up with the Kardashians,\" which features the personal and professional lives of the Kardashian-Jenner...",
         "Robert Kardashian's family had their own reality TV show.",
         ""
        ],
        [
         "2",
         "Which star in Shadows in Paradise is a Russian ballerina?",
         "Sofya Skya",
         "{'thought_0': 'I need to find out which star in the film \"Shadows in Paradise\" is a Russian ballerina. This information might be available on Wikipedia...",
         "I searched for information about the cast of the film \"Shadows in Paradise,\" specifically looking for a Russian ballerina. However, the search results primarily focused...",
         "There is no Russian ballerina in \"Shadows in Paradise.\"",
         ""
        ],
        [
         "3",
         "What was the meaning of the name of the man who appointed Amashsai?",
         "comforter",
         "{'thought_0': 'I need to gather information about the man who appointed Amashsai and the meaning of his name. This may involve looking up historical or...",
         "The man who appointed Amashsai was Nehemiah, a biblical figure known for his role in rebuilding Jerusalem. The meaning of Nehemiah's name is \"Yahweh comforts.\"...",
         "The meaning of the name of the man who appointed Amashsai, Nehemiah, is \"Yahweh comforts.\"",
         ""
        ],
        [
         "4",
         "In addition to the Austrian passport, what is needed to gain access to 173 countries and territories?",
         "national identity card",
         "{'thought_0': 'To answer the question about what is needed in addition to the Austrian passport to gain access to 173 countries and territories, I should...",
         "To gain access to 173 countries and territories with an Austrian passport, additional requirements may include obtaining visas for certain countries, health documents (such as...",
         "In addition to the Austrian passport, travelers may need to obtain visas for certain countries, health documents (such as vaccination certificates), or meet other specific...",
         ""
        ],
        [
         "5",
         "what was the number of Tongan athletes that competed between after 2008 in 2011 commonwealth Youth Games?",
         "three",
         "{'thought_0': 'I need to find information about the number of Tongan athletes who competed in the 2011 Commonwealth Youth Games. This information may be available...",
         "Tonga had a delegation of four competitors (two men and two women) at the 2011 Commonwealth Youth Games. This was a decrease from their previous...",
         "Four",
         ""
        ],
        [
         "6",
         "Are Norma and Idomeneo both operas by Bellini?",
         "no",
         "{'thought_0': 'I need to verify whether both \"Norma\" and \"Idomeneo\" are operas composed by Vincenzo Bellini. I know that \"Norma\" is indeed by Bellini, but...",
         "\"Norma\" is indeed an opera by Vincenzo Bellini, while \"Idomeneo\" is composed by Wolfgang Amadeus Mozart. Therefore, they are not both operas by Bellini; only...",
         "No, only \"Norma\" is an opera by Bellini; \"Idomeneo\" is by Mozart.",
         ""
        ],
        [
         "7",
         "What is the year of the event which occurred first, Michael Mantenuto was born, or Miracle was produced?",
         "1981",
         "{'thought_0': 'I need to find the birth year of Michael Mantenuto and the release year of the movie \"Miracle\" to determine which event occurred first....",
         "Michael Mantenuto was born on May 13, 1981, and the movie \"Miracle\" was released on February 6, 2004. Since 1981 is earlier than 2004, it...",
         "Michael Mantenuto was born first, in 1981, before the movie \"Miracle\" was released in 2004.",
         ""
        ],
        [
         "8",
         "Which saxophone hit was both covered by Chet Atkins and used as Benny Hill's signature tune?",
         "Yakety Sax",
         "{'thought_0': \"I need to find out which saxophone hit was covered by Chet Atkins and used as Benny Hill's signature tune. This information might be...",
         "The saxophone hit that was both covered by Chet Atkins and used as Benny Hill's signature tune is \"Yakety Sax.\" Chet Atkins covered it as...",
         "\"Yakety Sax\"",
         "✔️ [True]"
        ],
        [
         "9",
         "Auguste Charlois who discovered 317 Roxane named for Roxana from what area",
         "Bactria",
         "{'thought_0': 'I need to find information about Auguste Charlois and the naming of the asteroid 317 Roxane. Specifically, I want to know the area associated...",
         "The asteroid 317 Roxane was named after Roxana, who was a Sogdian princess and the wife of Alexander the Great. Roxana originated from Bactria, which...",
         "Bactria, a historical region in Central Asia.",
         ""
        ],
        [
         "10",
         "What magazine was established in 1988 by Frank Thomas and Keith White and has been associated with the Dirtbag Left?",
         "The Baffler",
         "{'thought_0': 'I need to find out which magazine was established in 1988 by Frank Thomas and Keith White and is associated with the Dirtbag Left....",
         "The magazine established in 1988 by Frank Thomas and Keith White that is associated with the Dirtbag Left is \"The Baffler.\" This information was confirmed...",
         "The Baffler",
         "✔️ [True]"
        ],
        [
         "11",
         "Which movie in a collaboration between Malcom X and Alex Haley also was nominated for an Oscar",
         "The Autobiography of Malcolm X",
         "{'thought_0': 'I need to find information about the collaboration between Malcolm X and Alex Haley that resulted in a movie nominated for an Oscar. This...",
         "The collaboration between Malcolm X and Alex Haley resulted in the \"The Autobiography of Malcolm X,\" which was adapted into the documentary film \"Malcolm X\"...",
         "The movie that resulted from the collaboration between Malcolm X and Alex Haley and was nominated for an Oscar is \"Malcolm X\" (1972), which was...",
         ""
        ],
        [
         "12",
         "In what city was the 50th Military Airlift Squadron's last assignment?",
         "Honolulu",
         "{'thought_0': 'I need to find information about the 50th Military Airlift Squadron and its last assignment, specifically the city where it was located. Searching for...",
         "The 50th Military Airlift Squadron's last assignment was to the 1502d Air Transport Wing, Military Air Transport Service, which was stationed at Hickam Air Force...",
         "Hickam Air Force Base, Hawaii",
         ""
        ],
        [
         "13",
         "Wing has drawn comparisons to what  American socialite and amateur soprano who was known and mocked for her flamboyant performance costumes ",
         "Florence Foster Jenkins",
         "{'thought_0': 'I need to find out which American socialite and amateur soprano is known for her flamboyant performance costumes and has been compared to Wing....",
         "Florence Foster Jenkins is the American socialite and amateur soprano known for her flamboyant performance costumes and her notably poor singing ability. She has been...",
         "Florence Foster Jenkins",
         "✔️ [True]"
        ],
        [
         "14",
         "What was the name of the band that starred Belinda Carlisle and released the album, Germicide in 1977?",
         "The Go-Go's",
         "{'thought_0': 'I need to find the name of the band that featured Belinda Carlisle and released the album \"Germicide\" in 1977. This information might be...",
         "Belinda Carlisle was the lead vocalist of The Go-Go's, an all-female rock band that rose to fame in the early 1980s. The album \"Germicide,\" released...",
         "The band that starred Belinda Carlisle is The Go-Go's, but they did not release the album \"Germicide.\" That album was released by the Germs.",
         ""
        ],
        [
         "15",
         "Reggie Grimes played for New England Patriots in 2000, and where did he play college football?",
         "Alabama",
         "{'thought_0': \"I need to find out where Reggie Grimes played college football. Since I don't have that information yet, I will search for it on...",
         "Reggie Grimes played college football at the University of Alabama, as confirmed by the information retrieved from Wikipedia.",
         "Reggie Grimes played college football at Alabama.",
         ""
        ],
        [
         "16",
         "What is the newer title of the game published by Sega that also describes the job title of Dave Rogers?",
         "Football Manager",
         "{'thought_0': 'I need to find out the newer title of the game published by Sega that relates to the job title of Dave Rogers. First,...",
         "The job title of Dave Rogers is related to the field of racing, specifically as a technical director or crew chief in NASCAR. To find...",
         "Sonic & Sega All-Stars Racing",
         ""
        ],
        [
         "17",
         "What is the name of this Irish singer-songwriter, musician, venture capitalist, businessman, and philanthropist, who wrote \"Love Is Blindness\" on the piano?",
         "Bono",
         "{'thought_0': 'I need to identify the Irish singer-songwriter who wrote \"Love Is Blindness.\" This song is associated with U2, so I should look for information...",
         "The question asks for the name of an Irish singer-songwriter who wrote \"Love Is Blindness.\" This song is known to be associated with U2, a...",
         "Bono",
         "✔️ [True]"
        ],
        [
         "18",
         "Which dog originated in the Mountains of Romania, the Ariege Pointer or the Carpathian Shepherd Dog?",
         "Carpathian Mountains of Romania.",
         "{'thought_0': 'I need to find out which dog breed originated in the Mountains of Romania. The question mentions two breeds: the Ariege Pointer and the...",
         "The Ariege Pointer is a breed that originates from France, specifically the Ariège region, and is primarily used as a hunting dog. In contrast, the...",
         "The Carpathian Shepherd Dog",
         ""
        ],
        [
         "19",
         "What actress from the 1999 movie The Virgin Suicides has won two golden globes and been nominated for an academy award?",
         "Mary Kathleen Turner",
         "{'thought_0': 'I need to find out which actress from the 1999 movie \"The Virgin Suicides\" has won two Golden Globes and has been nominated for...",
         "The actress from the 1999 movie \"The Virgin Suicides\" who has won two Golden Globes and has been nominated for an Academy Award is Kirsten...",
         "Kirsten Dunst",
         ""
        ],
        [
         "20",
         "what revolution led to the overthrow of King James II of England and its news led to overthrow of androws in the Boston Revolt",
         "The Glorious Revolution,",
         "{'thought_0': 'The question is asking about a specific historical revolution that resulted in the overthrow of King James II of England and also influenced events...",
         "The Glorious Revolution of 1688 was a pivotal event that resulted in the overthrow of King James II of England. This revolution was characterized by...",
         "The revolution that led to the overthrow of King James II of England was the Glorious Revolution of 1688. This event also influenced the Boston...",
         ""
        ],
        [
         "21",
         "What's the present day English county of Skelton-in-Cleveland, recorded in the Domesday Book and site of a 12th-century castle?",
         "North Yorkshire",
         "{'thought_0': 'I need to find information about Skelton-in-Cleveland, including its current status as an English county and its historical significance as recorded in the Domesday...",
         "Skelton-in-Cleveland is a small town located in North Yorkshire, England, and is part of the unitary authority of Redcar and Cleveland. It is historically significant...",
         "The present-day English county of Skelton-in-Cleveland is located in North Yorkshire, within the unitary authority of Redcar and Cleveland. It is historically significant as it...",
         ""
        ],
        [
         "22",
         "Kyle Moran was born in the town on what river?",
         "Castletown",
         "{'thought_0': 'I need to find information about Kyle Moran, specifically where he was born and the river associated with that town. Searching for details about...",
         "Kyle Moran was born in Dundalk, Ireland. The town of Dundalk is associated with the Castletown River, which flows through it and enters Dundalk Bay....",
         "Castletown River",
         ""
        ],
        [
         "23",
         "what is the largest university press in the world that published Oxford Companions?",
         "Oxford University Press",
         "{'thought_0': 'I need to find information about the largest university press in the world that published the Oxford Companions. This likely involves searching for details...",
         "Oxford University Press (OUP) is recognized as the largest university press in the world and is known for publishing the Oxford Companions series. This information...",
         "The largest university press in the world that published the Oxford Companions is Oxford University Press.",
         ""
        ],
        [
         "24",
         "Was the boxing match between Carl Froch vs. George Groves, billed as the \"Battle of Britain\", held indoors or outdoors?",
         "indoor",
         "{'thought_0': 'I need to find out whether the boxing match between Carl Froch and George Groves, known as the \"Battle of Britain,\" was held indoors...",
         "The boxing match between Carl Froch and George Groves, known as the \"Battle of Britain,\" took place at the Manchester Arena. Since the Manchester Arena...",
         "The boxing match was held indoors.",
         ""
        ],
        [
         "25",
         "what song is in the movie directed by Paul Hoen based on the novel \"if I had one wish\"?",
         "\"World of Our Own\"",
         "{'thought_0': 'I need to find out which song is featured in the movie directed by Paul Hoen that is based on the novel \"If I...",
         "The movie \"You Wish!\" directed by Paul Hoen is based on the novel \"If I Had One Wish.\" However, despite multiple searches, I was unable...",
         "I could not find specific information about the song featured in the movie \"You Wish!\" directed by Paul Hoen.",
         ""
        ],
        [
         "26",
         "What film was William Fichtner in that also had Heath Ledger in it?",
         "The Dark Knight",
         "{'thought_0': 'I need to find out which film featured both William Fichtner and Heath Ledger. This information might be available on Wikipedia, so I will...",
         "William Fichtner appeared in \"The Dark Knight,\" which is a film that also features Heath Ledger. Ledger played the iconic role of the Joker in...",
         "The film that William Fichtner was in that also had Heath Ledger is \"The Dark Knight.\"",
         ""
        ],
        [
         "27",
         "Which band from East London had Steve Marriott as a band member?",
         "Small Faces",
         "{'thought_0': 'I need to find out which band from East London had Steve Marriott as a member. This information might be available on Wikipedia, so...",
         "Steve Marriott was a member of the band Small Faces, which is known to be an English rock band from East London. This information confirms...",
         "Small Faces",
         "✔️ [True]"
        ],
        [
         "28",
         "What is the name of the TV station in Hudson County, New Jersey, where Van Hackett worked?",
         "WWOR-TV",
         "{'thought_0': 'I need to find information about Van Hackett and the TV station he worked at in Hudson County, New Jersey. A good starting point...",
         "Van Hackett worked at WWOR-TV, which is located in Secaucus, New Jersey. Secaucus is part of Hudson County, confirming that this is the TV station...",
         "WWOR-TV",
         "✔️ [True]"
        ],
        [
         "29",
         "Where did the star of Redbelt get a scholarship?",
         "London Academy of Music",
         "{'thought_0': 'I need to find out where the star of the film \"Redbelt\" received a scholarship. This likely refers to the lead actor, so I...",
         "Chiwetel Ejiofor, the star of the film \"Redbelt,\" received a scholarship to the London Academy of Music and Dramatic Art. This scholarship was a significant...",
         "Chiwetel Ejiofor received a scholarship to the London Academy of Music and Dramatic Art.",
         ""
        ],
        [
         "30",
         "What countries utilize the ECTS grading scale that Norway adopted?",
         "Europe",
         "{'thought_0': 'I need to find out which countries use the ECTS grading scale, as Norway has adopted it. This information is likely available on Wikipedia...",
         "The ECTS grading scale is primarily used in European countries as part of the European Credit Transfer and Accumulation System. While the search did not...",
         "Countries that utilize the ECTS grading scale include most European Union member states and other European countries participating in the Bologna Process, such as Germany,...",
         ""
        ],
        [
         "31",
         "Which of Adelaide Metro's stations is located at the base of the Mount Lofty Ranges?",
         "Belair railway station",
         "{'thought_0': 'I need to find out which station of the Adelaide Metro is located at the base of the Mount Lofty Ranges. This information might...",
         "The Mount Lofty railway station is located in the Adelaide Hills suburb of Stirling, which is situated at the base of the Mount Lofty Ranges....",
         "Mount Lofty railway station",
         ""
        ],
        [
         "32",
         "Carry On is a 4-CD career retrospective box set by Stephen Stills, including tracks with the vocal folk rock supergroup named what?",
         "Crosby, Stills, Nash & Young",
         "{'thought_0': 'I need to find out the name of the vocal folk rock supergroup that Stephen Stills was a part of, which is featured in...",
         "Stephen Stills is known for being a part of several influential music groups throughout his career. The \"Carry On\" box set features highlights from his...",
         "Crosby, Stills, Nash & Young (CSN&Y)",
         ""
        ],
        [
         "33",
         "Intimidator 305 and Thunder Dolphin are what type of roller coaster?",
         "steel roller coaster",
         "{'thought_0': 'I need to find out what type of roller coasters Intimidator 305 and Thunder Dolphin are. I will search for information on these specific...",
         "Intimidator 305 is classified as a Giga Coaster, which is a type of roller coaster that features a height of 300 feet or more. Thunder...",
         "Intimidator 305 is a Giga Coaster, while Thunder Dolphin is a steel roller coaster.",
         ""
        ],
        [
         "34",
         "What is Amanda Crew's role in the movie Sex Drive?",
         "stars",
         "{'thought_0': 'I need to find out what role Amanda Crew plays in the movie \"Sex Drive.\" This information is likely available on Wikipedia, so I...",
         "Amanda Crew plays the role of Felicia Alpine in the movie \"Sex Drive.\" This information was confirmed through a search that provided details about her...",
         "Amanda Crew's role in the movie \"Sex Drive\" is Felicia Alpine.",
         ""
        ],
        [
         "35",
         "What was the role played in \"Sweet Charity\" by the star of Dear Diary?",
         "Nickie",
         "{'thought_0': 'I need to identify the star of \"Dear Diary\" and then find out their role in \"Sweet Charity.\" This will require searching for information...",
         "Bebe Neuwirth, the star of the 1996 film \"Dear Diary,\" played the role of Nickie in the 1986 revival of \"Sweet Charity.\" This information connects...",
         "Bebe Neuwirth played the role of Nickie in \"Sweet Charity.\"",
         ""
        ],
        [
         "36",
         "Widows' Peak stars what English actress commonly known as  Dame",
         "Joan Plowright",
         "{'thought_0': 'I need to find out which English actress commonly known as Dame stars in \"Widows\\' Peak.\" This information might be available on Wikipedia, so...",
         "The film \"Widows' Peak\" features Joan Plowright, who is an English actress commonly referred to as Dame. This aligns with the question regarding the actress...",
         "Joan Plowright",
         "✔️ [True]"
        ],
        [
         "37",
         "in the 1975–76, Seattle SuperSonics lost to a team based in which US state ?",
         "Arizona",
         "{'thought_0': 'I need to find out which team the Seattle SuperSonics lost to in the 1975–76 season and the state that team is based in....",
         "The Seattle SuperSonics lost to the Phoenix Suns in the 1975–76 NBA season. The Phoenix Suns are based in Arizona. Therefore, the state where the...",
         "Arizona",
         "✔️ [True]"
        ],
        [
         "38",
         "What musical instrument does Amaan Ali Khan and  Amjad Ali Khan both play?",
         "the sarod",
         "{'thought_0': 'I need to find out what musical instrument both Amaan Ali Khan and Amjad Ali Khan play. Since they are both known figures in...",
         "Both Amaan Ali Khan and Amjad Ali Khan are renowned Indian classical musicians known for their performances on the sarod. The information gathered confirms that...",
         "They both play the sarod.",
         ""
        ],
        [
         "39",
         "The principal building in the village of Guthrie dates back to what century?",
         "the 15th century",
         "{'thought_0': 'I need to find out more about the village of Guthrie and its principal building to determine the century it dates back to. Searching...",
         "The principal building in the village of Guthrie is Guthrie Castle, and the village is centered on the Guthrie parish church, which was built in...",
         "The principal building in the village of Guthrie dates back to the 12th century.",
         ""
        ],
        [
         "40",
         "What American singer born 1951 does Jim Rooney  have credits for?",
         "Iris Luella DeMent",
         "{'thought_0': \"I need to find out which American singer born in 1951 has credits associated with Jim Rooney. This may involve looking up Jim Rooney's...",
         "After searching for American singers born in 1951 and their collaborations with Jim Rooney, I found that the notable American singer who fits this description...",
         "The American singer born in 1951 who is associated with Jim Rooney is **Jackie Jackson**, although specific collaboration details are not confirmed.",
         ""
        ],
        [
         "41",
         "Are Hüsker Dü and The Colourist both musical bands?",
         "yes",
         "{'thought_0': 'I need to verify if both Hüsker Dü and The Colourist are indeed musical bands. I will search for information about both bands to...",
         "Both Hüsker Dü and The Colourist have been confirmed as musical bands. Hüsker Dü is an American rock band formed in 1979, known for its...",
         "Yes, both Hüsker Dü and The Colourist are musical bands.",
         ""
        ],
        [
         "42",
         "Who was the son of British radio and television presenter and historian best known as an analyst of election results?",
         "Dan Snow",
         "{'thought_0': 'I need to identify the British radio and television presenter and historian known for analyzing election results. Once I find this person, I can...",
         "The British radio and television presenter and historian known for analyzing election results is Peter Snow. After researching, I found that he has a son...",
         "Dan Snow",
         "✔️ [True]"
        ],
        [
         "43",
         "Which building, Olympic Tower or Latting Observatory, is no longer erect?",
         "Latting Observatory",
         "{'thought_0': 'I need to determine which of the two buildings, Olympic Tower or Latting Observatory, is no longer standing. I will search for information about...",
         "The Latting Observatory was built in 1853 and was the tallest structure in New York City until it burned down in 1856, which means it...",
         "Latting Observatory",
         "✔️ [True]"
        ],
        [
         "44",
         "Which professional basketball player won a NBA championship and spoke positively on the book \"the 21 irrefutable laws of leadership\"?",
         "Harrison Barnes",
         "{'thought_0': 'I need to find out which professional basketball player has won an NBA championship and has spoken positively about the book \"The 21 Irrefutable...",
         "Harrison Barnes is a professional basketball player who won an NBA championship with the Golden State Warriors in 2015. He has also spoken positively about...",
         "Harrison Barnes",
         "✔️ [True]"
        ],
        [
         "45",
         "Who was the first love interest for J. K. Rowling's orphan character who attends Hogwarts School of Witchcraft and Wizardry?",
         "Cho Chang",
         "{'thought_0': \"I need to find out who the first love interest was for J. K. Rowling's orphan character at Hogwarts. This character is Harry Potter,...",
         "Harry Potter's first love interest is Cho Chang, a character introduced in the \"Harry Potter\" series. She is portrayed as a Ravenclaw student and becomes...",
         "The first love interest for J. K. Rowling's orphan character, Harry Potter, is Cho Chang.",
         ""
        ],
        [
         "46",
         "Utterby is situated on the road that is in what English region?",
         "East Midlands",
         "{'thought_0': 'I need to find out which English region Utterby is situated in. A good approach would be to search for Utterby on Wikipedia to...",
         "Utterby is identified as a village and civil parish in the East Lindsey district of Lincolnshire, England. Since Lincolnshire is part of the East Midlands...",
         "Utterby is situated in the East Midlands region of England.",
         ""
        ],
        [
         "47",
         "What prestigious award have Bertrand Russell and Günter Grass won?",
         "Nobel Prize",
         "{'thought_0': \"I need to find out what prestigious award both Bertrand Russell and Günter Grass have won. Since I don't have this information readily available,...",
         "Both Bertrand Russell and Günter Grass are notable figures in literature who have been awarded the Nobel Prize for Literature. Russell received this prestigious award...",
         "Both Bertrand Russell and Günter Grass have won the Nobel Prize for Literature.",
         ""
        ],
        [
         "48",
         "What precious metal did both McIntyre Mines and the Kemess Mine dig for?",
         "gold",
         "{'thought_0': 'I need to find out what precious metal was mined by both McIntyre Mines and the Kemess Mine. This information might be available on...",
         "Both McIntyre Mines and the Kemess Mine extracted gold, as indicated in the information gathered. The McIntyre mine is noted for its historical significance in...",
         "Gold",
         "✔️ [True]"
        ],
        [
         "49",
         "Which science fiction trilogy has in the lead role an actress who had a voice role in the 3D film Peter Rabbit?",
         "Star Wars",
         "{'thought_0': 'I need to identify the actress who had a voice role in the 3D film Peter Rabbit and then find out which science fiction...",
         "The actress who provided a voice role in the 3D film \"Peter Rabbit\" is Daisy Ridley. She is known for her lead role as Rey...",
         "Star Wars trilogy",
         ""
        ]
       ],
       "shape": {
        "columns": 6,
        "rows": 100
       }
      },
      "text/html": [
       "<div>\n",
       "<style scoped>\n",
       "    .dataframe tbody tr th:only-of-type {\n",
       "        vertical-align: middle;\n",
       "    }\n",
       "\n",
       "    .dataframe tbody tr th {\n",
       "        vertical-align: top;\n",
       "    }\n",
       "\n",
       "    .dataframe thead th {\n",
       "        text-align: right;\n",
       "    }\n",
       "</style>\n",
       "<table border=\"1\" class=\"dataframe\">\n",
       "  <thead>\n",
       "    <tr style=\"text-align: right;\">\n",
       "      <th></th>\n",
       "      <th>question</th>\n",
       "      <th>example_answer</th>\n",
       "      <th>trajectory</th>\n",
       "      <th>reasoning</th>\n",
       "      <th>pred_answer</th>\n",
       "      <th>answer_exact_match</th>\n",
       "    </tr>\n",
       "  </thead>\n",
       "  <tbody>\n",
       "    <tr>\n",
       "      <th>0</th>\n",
       "      <td>What movie did \"the king of cool\" play in with Bud Ekins as his st...</td>\n",
       "      <td>\"The Great Escape\"</td>\n",
       "      <td>{'thought_0': 'I need to find out which movie \"the king of cool\" s...</td>\n",
       "      <td>Bud Ekins served as Steve McQueen's stunt double in the classic fi...</td>\n",
       "      <td>The Great Escape</td>\n",
       "      <td>✔️ [True]</td>\n",
       "    </tr>\n",
       "    <tr>\n",
       "      <th>1</th>\n",
       "      <td>whos family had their own reality tv show. Robert Kardashian or Ma...</td>\n",
       "      <td>their family reality television series</td>\n",
       "      <td>{'thought_0': 'I need to determine which individual, Robert Kardas...</td>\n",
       "      <td>Robert Kardashian's family is well-known for their reality TV show...</td>\n",
       "      <td>Robert Kardashian's family had their own reality TV show.</td>\n",
       "      <td></td>\n",
       "    </tr>\n",
       "    <tr>\n",
       "      <th>2</th>\n",
       "      <td>Which star in Shadows in Paradise is a Russian ballerina?</td>\n",
       "      <td>Sofya Skya</td>\n",
       "      <td>{'thought_0': 'I need to find out which star in the film \"Shadows ...</td>\n",
       "      <td>I searched for information about the cast of the film \"Shadows in ...</td>\n",
       "      <td>There is no Russian ballerina in \"Shadows in Paradise.\"</td>\n",
       "      <td></td>\n",
       "    </tr>\n",
       "    <tr>\n",
       "      <th>3</th>\n",
       "      <td>What was the meaning of the name of the man who appointed Amashsai?</td>\n",
       "      <td>comforter</td>\n",
       "      <td>{'thought_0': 'I need to gather information about the man who appo...</td>\n",
       "      <td>The man who appointed Amashsai was Nehemiah, a biblical figure kno...</td>\n",
       "      <td>The meaning of the name of the man who appointed Amashsai, Nehemia...</td>\n",
       "      <td></td>\n",
       "    </tr>\n",
       "    <tr>\n",
       "      <th>4</th>\n",
       "      <td>In addition to the Austrian passport, what is needed to gain acces...</td>\n",
       "      <td>national identity card</td>\n",
       "      <td>{'thought_0': 'To answer the question about what is needed in addi...</td>\n",
       "      <td>To gain access to 173 countries and territories with an Austrian p...</td>\n",
       "      <td>In addition to the Austrian passport, travelers may need to obtain...</td>\n",
       "      <td></td>\n",
       "    </tr>\n",
       "    <tr>\n",
       "      <th>...</th>\n",
       "      <td>...</td>\n",
       "      <td>...</td>\n",
       "      <td>...</td>\n",
       "      <td>...</td>\n",
       "      <td>...</td>\n",
       "      <td>...</td>\n",
       "    </tr>\n",
       "    <tr>\n",
       "      <th>95</th>\n",
       "      <td>What date did the American actress and singer-songwriter, known fo...</td>\n",
       "      <td>April 19, 1994</td>\n",
       "      <td>{'thought_0': 'I need to find out the name of the American actress...</td>\n",
       "      <td>The American actress and singer-songwriter known for her role as P...</td>\n",
       "      <td>2007</td>\n",
       "      <td></td>\n",
       "    </tr>\n",
       "    <tr>\n",
       "      <th>96</th>\n",
       "      <td>What animated creatures were the title characters of the film whic...</td>\n",
       "      <td>seals</td>\n",
       "      <td>{'thought_0': 'I need to identify the animated creatures that were...</td>\n",
       "      <td>The question asks for animated creatures that were the title chara...</td>\n",
       "      <td>The animated creatures that were the title characters of the film ...</td>\n",
       "      <td></td>\n",
       "    </tr>\n",
       "    <tr>\n",
       "      <th>97</th>\n",
       "      <td>The 1925 Saint Mary's Gaels football team represented what private...</td>\n",
       "      <td>Saint Mary's College of California</td>\n",
       "      <td>{'thought_0': \"I need to find out which private, coeducational col...</td>\n",
       "      <td>The 1925 Saint Mary's Gaels football team represented Saint Mary's...</td>\n",
       "      <td>Saint Mary's College of California</td>\n",
       "      <td>✔️ [True]</td>\n",
       "    </tr>\n",
       "    <tr>\n",
       "      <th>98</th>\n",
       "      <td>Were Dorothy Arzner and Richard Wallace both French film directors?</td>\n",
       "      <td>no</td>\n",
       "      <td>{'thought_0': 'I need to verify the nationalities and contribution...</td>\n",
       "      <td>Both Dorothy Arzner and Richard Wallace were confirmed to be Ameri...</td>\n",
       "      <td>No, neither Dorothy Arzner nor Richard Wallace were French film di...</td>\n",
       "      <td></td>\n",
       "    </tr>\n",
       "    <tr>\n",
       "      <th>99</th>\n",
       "      <td>Which artist started recording/performing earlier David Donato or ...</td>\n",
       "      <td>Moya Brennan</td>\n",
       "      <td>{'thought_0': 'I need to find out the years when David Donato and ...</td>\n",
       "      <td>Moya Brennan began performing professionally in 1970, while David ...</td>\n",
       "      <td>Moya Brennan started recording/performing earlier than David Donato.</td>\n",
       "      <td></td>\n",
       "    </tr>\n",
       "  </tbody>\n",
       "</table>\n",
       "<p>100 rows × 6 columns</p>\n",
       "</div>"
      ],
      "text/plain": [
       "                                                                 question  \\\n",
       "0   What movie did \"the king of cool\" play in with Bud Ekins as his st...   \n",
       "1   whos family had their own reality tv show. Robert Kardashian or Ma...   \n",
       "2               Which star in Shadows in Paradise is a Russian ballerina?   \n",
       "3     What was the meaning of the name of the man who appointed Amashsai?   \n",
       "4   In addition to the Austrian passport, what is needed to gain acces...   \n",
       "..                                                                    ...   \n",
       "95  What date did the American actress and singer-songwriter, known fo...   \n",
       "96  What animated creatures were the title characters of the film whic...   \n",
       "97  The 1925 Saint Mary's Gaels football team represented what private...   \n",
       "98    Were Dorothy Arzner and Richard Wallace both French film directors?   \n",
       "99  Which artist started recording/performing earlier David Donato or ...   \n",
       "\n",
       "                            example_answer  \\\n",
       "0                       \"The Great Escape\"   \n",
       "1   their family reality television series   \n",
       "2                               Sofya Skya   \n",
       "3                                comforter   \n",
       "4                   national identity card   \n",
       "..                                     ...   \n",
       "95                          April 19, 1994   \n",
       "96                                   seals   \n",
       "97      Saint Mary's College of California   \n",
       "98                                      no   \n",
       "99                            Moya Brennan   \n",
       "\n",
       "                                                               trajectory  \\\n",
       "0   {'thought_0': 'I need to find out which movie \"the king of cool\" s...   \n",
       "1   {'thought_0': 'I need to determine which individual, Robert Kardas...   \n",
       "2   {'thought_0': 'I need to find out which star in the film \"Shadows ...   \n",
       "3   {'thought_0': 'I need to gather information about the man who appo...   \n",
       "4   {'thought_0': 'To answer the question about what is needed in addi...   \n",
       "..                                                                    ...   \n",
       "95  {'thought_0': 'I need to find out the name of the American actress...   \n",
       "96  {'thought_0': 'I need to identify the animated creatures that were...   \n",
       "97  {'thought_0': \"I need to find out which private, coeducational col...   \n",
       "98  {'thought_0': 'I need to verify the nationalities and contribution...   \n",
       "99  {'thought_0': 'I need to find out the years when David Donato and ...   \n",
       "\n",
       "                                                                reasoning  \\\n",
       "0   Bud Ekins served as Steve McQueen's stunt double in the classic fi...   \n",
       "1   Robert Kardashian's family is well-known for their reality TV show...   \n",
       "2   I searched for information about the cast of the film \"Shadows in ...   \n",
       "3   The man who appointed Amashsai was Nehemiah, a biblical figure kno...   \n",
       "4   To gain access to 173 countries and territories with an Austrian p...   \n",
       "..                                                                    ...   \n",
       "95  The American actress and singer-songwriter known for her role as P...   \n",
       "96  The question asks for animated creatures that were the title chara...   \n",
       "97  The 1925 Saint Mary's Gaels football team represented Saint Mary's...   \n",
       "98  Both Dorothy Arzner and Richard Wallace were confirmed to be Ameri...   \n",
       "99  Moya Brennan began performing professionally in 1970, while David ...   \n",
       "\n",
       "                                                              pred_answer  \\\n",
       "0                                                        The Great Escape   \n",
       "1               Robert Kardashian's family had their own reality TV show.   \n",
       "2                 There is no Russian ballerina in \"Shadows in Paradise.\"   \n",
       "3   The meaning of the name of the man who appointed Amashsai, Nehemia...   \n",
       "4   In addition to the Austrian passport, travelers may need to obtain...   \n",
       "..                                                                    ...   \n",
       "95                                                                   2007   \n",
       "96  The animated creatures that were the title characters of the film ...   \n",
       "97                                     Saint Mary's College of California   \n",
       "98  No, neither Dorothy Arzner nor Richard Wallace were French film di...   \n",
       "99   Moya Brennan started recording/performing earlier than David Donato.   \n",
       "\n",
       "   answer_exact_match  \n",
       "0           ✔️ [True]  \n",
       "1                      \n",
       "2                      \n",
       "3                      \n",
       "4                      \n",
       "..                ...  \n",
       "95                     \n",
       "96                     \n",
       "97          ✔️ [True]  \n",
       "98                     \n",
       "99                     \n",
       "\n",
       "[100 rows x 6 columns]"
      ]
     },
     "metadata": {},
     "output_type": "display_data"
    },
    {
     "name": "stdout",
     "output_type": "stream",
     "text": [
      "🏃 View run eval at: http://localhost:8080/#/experiments/840480777417013393/runs/c0848e006ff946a9b8f5425fc95d2f0e\n",
      "🧪 View experiment at: http://localhost:8080/#/experiments/840480777417013393\n",
      "Original score: 29.0\n"
     ]
    },
    {
     "data": {
      "text/html": [
       "\n",
       "<div>\n",
       "  <style scoped>\n",
       "  button {\n",
       "    border: none;\n",
       "    border-radius: 4px;\n",
       "    background-color: rgb(34, 114, 180);\n",
       "    font-family: -apple-system, \"system-ui\", \"Segoe UI\", Roboto, \"Helvetica Neue\", Arial;\n",
       "    font-size: 13px;\n",
       "    color: white;\n",
       "    margin-top: 8px;\n",
       "    margin-bottom: 8px;\n",
       "    padding: 8px 16px;\n",
       "    cursor: pointer;\n",
       "  }\n",
       "  button:hover {\n",
       "    background-color: rgb(66, 153, 224);\n",
       "  }\n",
       "  </style>\n",
       "  <button\n",
       "    onclick=\"\n",
       "        const display = this.nextElementSibling.style.display;\n",
       "        const isCollapsed = display === 'none';\n",
       "        this.nextElementSibling.style.display = isCollapsed ? null : 'none';\n",
       "\n",
       "        const verb = isCollapsed ? 'Collapse' : 'Expand';\n",
       "        this.innerText = `${verb} MLflow Trace`;\n",
       "    \"\n",
       "  >Collapse MLflow Trace</button>\n",
       "  <iframe\n",
       "    id=\"trace-renderer\"\n",
       "    style=\"width: 100%; height: 500px; border: none; resize: vertical;\"\n",
       "    src=\"http://localhost:8080/static-files/lib/notebook-trace-renderer/index.html?trace_id=a2cdc48144be45d68d6079a4e0cd70e6&amp;experiment_id=840480777417013393&amp;trace_id=9b71bf01392748e9b03c9f22c8cf176a&amp;experiment_id=840480777417013393&amp;trace_id=1ab593821bca441198cf4c93d27be517&amp;experiment_id=840480777417013393&amp;trace_id=afc695e08fbc4286a0abda40194ec4dd&amp;experiment_id=840480777417013393&amp;trace_id=7616415043fc490cb4b8bbba410dffee&amp;experiment_id=840480777417013393&amp;trace_id=ac42bcce593f4f29a3cd418552c6259b&amp;experiment_id=840480777417013393&amp;trace_id=6cbba1a5dc1b4799ba7d9f3c1f7183a7&amp;experiment_id=840480777417013393&amp;trace_id=77bc04cc84af4b3693fe3046472e2746&amp;experiment_id=840480777417013393&amp;trace_id=64017b10c8794afc971d6bdf1ecb5dfe&amp;experiment_id=840480777417013393&amp;trace_id=aead255c960b4f11a1b099a75bef42d5&amp;experiment_id=840480777417013393&amp;version=3.1.1\"\n",
       "  />\n",
       "</div>\n"
      ],
      "text/plain": [
       "[Trace(trace_id=a2cdc48144be45d68d6079a4e0cd70e6), Trace(trace_id=9b71bf01392748e9b03c9f22c8cf176a), Trace(trace_id=1ab593821bca441198cf4c93d27be517), Trace(trace_id=afc695e08fbc4286a0abda40194ec4dd), Trace(trace_id=7616415043fc490cb4b8bbba410dffee), Trace(trace_id=ac42bcce593f4f29a3cd418552c6259b), Trace(trace_id=6cbba1a5dc1b4799ba7d9f3c1f7183a7), Trace(trace_id=77bc04cc84af4b3693fe3046472e2746), Trace(trace_id=64017b10c8794afc971d6bdf1ecb5dfe), Trace(trace_id=aead255c960b4f11a1b099a75bef42d5)]"
      ]
     },
     "metadata": {},
     "output_type": "display_data"
    }
   ],
   "source": [
    "original_score = evaluator(react)\n",
    "print(f\"Original score: {original_score}\")"
   ]
  },
  {
   "cell_type": "code",
   "execution_count": 24,
   "id": "04908bc3-acf1-4089-ad76-579b355c0b99",
   "metadata": {
    "height": 47
   },
   "outputs": [
    {
     "name": "stdout",
     "output_type": "stream",
     "text": [
      "Average Metric: 51.00 / 100 (51.0%): 100%|██████████| 100/100 [00:15<00:00,  6.59it/s]"
     ]
    },
    {
     "name": "stderr",
     "output_type": "stream",
     "text": [
      "2025/07/06 19:07:03 INFO dspy.evaluate.evaluate: Average Metric: 51 / 100 (51.0%)\n"
     ]
    },
    {
     "name": "stdout",
     "output_type": "stream",
     "text": [
      "\n"
     ]
    },
    {
     "data": {
      "application/vnd.microsoft.datawrangler.viewer.v0+json": {
       "columns": [
        {
         "name": "index",
         "rawType": "int64",
         "type": "integer"
        },
        {
         "name": "question",
         "rawType": "object",
         "type": "string"
        },
        {
         "name": "example_answer",
         "rawType": "object",
         "type": "string"
        },
        {
         "name": "trajectory",
         "rawType": "object",
         "type": "string"
        },
        {
         "name": "reasoning",
         "rawType": "object",
         "type": "string"
        },
        {
         "name": "pred_answer",
         "rawType": "object",
         "type": "string"
        },
        {
         "name": "answer_exact_match",
         "rawType": "object",
         "type": "string"
        }
       ],
       "ref": "a6b976b1-e998-453e-937d-86c338994d46",
       "rows": [
        [
         "0",
         "What movie did \"the king of cool\" play in with Bud Ekins as his stunt double?",
         "\"The Great Escape\"",
         "{'thought_0': 'I need to find out which movie \"the king of cool\" starred in with Bud Ekins as his stunt double. I will search for...",
         "Steve McQueen, referred to as \"the king of cool,\" starred in the film \"The Great Escape,\" where Bud Ekins served as his stunt double. This...",
         "The Great Escape",
         "✔️ [True]"
        ],
        [
         "1",
         "whos family had their own reality tv show. Robert Kardashian or Manvel Gamburyan?",
         "their family reality television series",
         "{'thought_0': 'I need to determine which of the two individuals, Robert Kardashian or Manvel Gamburyan, had a family that starred in a reality TV show....",
         "Robert Kardashian is part of the Kardashian family, who are famous for their reality TV show \"Keeping Up with the Kardashians.\" While Manvel Gamburyan was...",
         "Robert Kardashian",
         ""
        ],
        [
         "2",
         "Which star in Shadows in Paradise is a Russian ballerina?",
         "Sofya Skya",
         "{'thought_0': 'I need to find out which star in the film \"Shadows in Paradise\" is a Russian ballerina. I will search for information about the...",
         "In the 2010 film \"Shadows in Paradise,\" Sofya Skya is a prominent star who is identified as a Russian ballerina. This information confirms that she...",
         "Sofya Skya",
         "✔️ [True]"
        ],
        [
         "3",
         "What was the meaning of the name of the man who appointed Amashsai?",
         "comforter",
         "{'thought_0': \"I need to find out who appointed Amashsai and the meaning of that person's name. I will search for information about Amashsai and who...",
         "Amashsai was appointed by Nehemiah, and the name \"Nehemiah\" means \"Yahweh comforts.\" This provides the necessary information to answer the question regarding the meaning of...",
         "Yahweh comforts",
         ""
        ],
        [
         "4",
         "In addition to the Austrian passport, what is needed to gain access to 173 countries and territories?",
         "national identity card",
         "{'thought_0': 'To answer the question about what is needed in addition to the Austrian passport to gain access to 173 countries and territories, I need...",
         "The information gathered indicates that Austrian citizens have visa-free or visa on arrival access to 173 countries and territories. However, it does not specify any...",
         "Austrian passport (and possibly a visa for specific countries)",
         ""
        ],
        [
         "5",
         "what was the number of Tongan athletes that competed between after 2008 in 2011 commonwealth Youth Games?",
         "three",
         "{'thought_0': 'I need to find out how many Tongan athletes competed in the 2011 Commonwealth Youth Games. I will search for information specifically about Tongan...",
         "Tonga had a delegation of four competitors (two men and two women) at the 2011 Commonwealth Youth Games. This information indicates the number of Tongan...",
         "4",
         ""
        ],
        [
         "6",
         "Are Norma and Idomeneo both operas by Bellini?",
         "no",
         "{'thought_0': 'I need to determine if both Norma and Idomeneo are operas by the composer Vincenzo Bellini. I will search for information about these two...",
         "Norma is an opera by Vincenzo Bellini, while Idomeneo is an opera by Wolfgang Amadeus Mozart. Since they are composed by different composers, it is...",
         "No, they are not both operas by Bellini.",
         ""
        ],
        [
         "7",
         "What is the year of the event which occurred first, Michael Mantenuto was born, or Miracle was produced?",
         "1981",
         "{'thought_0': \"I need to find out the birth year of Michael Mantenuto and the production year of the film Miracle. Once I have both years,...",
         "Michael Mantenuto was born on May 13, 1981, and the film \"Miracle\" was produced and released on February 6, 2004. Since 1981 is earlier than...",
         "Michael Mantenuto was born first in 1981.",
         ""
        ],
        [
         "8",
         "Which saxophone hit was both covered by Chet Atkins and used as Benny Hill's signature tune?",
         "Yakety Sax",
         "{'thought_0': \"I need to find out which saxophone hit was covered by Chet Atkins and used as Benny Hill's signature tune. I will search for...",
         "The saxophone hit \"Yakety Sax\" was both covered by Chet Atkins and used as Benny Hill's signature tune. This information was confirmed through a search...",
         "Yakety Sax",
         "✔️ [True]"
        ],
        [
         "9",
         "Auguste Charlois who discovered 317 Roxane named for Roxana from what area",
         "Bactria",
         "{'thought_0': 'I need to find out more about Auguste Charlois and the asteroid 317 Roxane to determine the area it is named after. I will...",
         "317 Roxane was named after Roxana, the wife of Alexander the Great. Roxana was a Sogdian princess from Bactria, an ancient region that corresponds to...",
         "Bactria (modern-day Afghanistan and surrounding areas)",
         ""
        ],
        [
         "10",
         "What magazine was established in 1988 by Frank Thomas and Keith White and has been associated with the Dirtbag Left?",
         "The Baffler",
         "{'thought_0': 'I need to find out which magazine was established in 1988 by Frank Thomas and Keith White and is associated with the Dirtbag Left....",
         "The magazine established in 1988 by Frank Thomas and Keith White is \"The Baffler.\" It is associated with the Dirtbag Left, which includes a group...",
         "The Baffler",
         "✔️ [True]"
        ],
        [
         "11",
         "Which movie in a collaboration between Malcom X and Alex Haley also was nominated for an Oscar",
         "The Autobiography of Malcolm X",
         "{'thought_0': 'I need to find out which movie was a collaboration between Malcolm X and Alex Haley that was also nominated for an Oscar. I...",
         "The movie that represents a collaboration between Malcolm X and Alex Haley is the 1972 documentary \"Malcolm X,\" which is based on \"The Autobiography of...",
         "Malcolm X (1972 film)",
         ""
        ],
        [
         "12",
         "In what city was the 50th Military Airlift Squadron's last assignment?",
         "Honolulu",
         "{'thought_0': \"I need to find information about the 50th Military Airlift Squadron and its last assignment, specifically the city where it was located. I will...",
         "The 50th Military Airlift Squadron's last assignment was to the 1502d Air Transport Wing, Military Air Transport Service, stationed at Hickam Air Force Base. Since...",
         "Hickam Air Force Base, Hawaii",
         ""
        ],
        [
         "13",
         "Wing has drawn comparisons to what  American socialite and amateur soprano who was known and mocked for her flamboyant performance costumes ",
         "Florence Foster Jenkins",
         "{'thought_0': 'I need to find out which American socialite and amateur soprano is known for flamboyant performance costumes and has been compared to Wing. I...",
         "Florence Foster Jenkins is the American socialite and amateur soprano known for her flamboyant performance costumes and notably poor singing ability. She has been compared...",
         "Florence Foster Jenkins",
         "✔️ [True]"
        ],
        [
         "14",
         "What was the name of the band that starred Belinda Carlisle and released the album, Germicide in 1977?",
         "The Go-Go's",
         "{'thought_0': 'I need to find out the name of the band that starred Belinda Carlisle and released the album Germicide in 1977. I will search...",
         "The album \"Germicide\" was released in 1977 by the punk rock band the Germs. Belinda Carlisle briefly introduced the band during a live performance, indicating...",
         "the Germs",
         ""
        ],
        [
         "15",
         "Reggie Grimes played for New England Patriots in 2000, and where did he play college football?",
         "Alabama",
         "{'thought_0': 'I need to find out where Reggie Grimes played college football. I will search for information about Reggie Grimes and his college football career.',...",
         "Reggie Grimes played college football at the University of Alabama. This information was confirmed through a search that provided details about his football career, including...",
         "University of Alabama",
         ""
        ],
        [
         "16",
         "What is the newer title of the game published by Sega that also describes the job title of Dave Rogers?",
         "Football Manager",
         "{'thought_0': 'I need to find out the newer title of the game published by Sega and also determine what job title Dave Rogers holds. This...",
         "After researching, I found that the newer title of the game published by Sega that relates to a job title is \"Sega Rally.\" The job...",
         "Sega Rally",
         ""
        ],
        [
         "17",
         "What is the name of this Irish singer-songwriter, musician, venture capitalist, businessman, and philanthropist, who wrote \"Love Is Blindness\" on the piano?",
         "Bono",
         "{'thought_0': 'I need to find out which Irish singer-songwriter wrote \"Love Is Blindness\" on the piano. This song is famously associated with U2, so I...",
         "The song \"Love Is Blindness\" was written by Bono, the lead singer of U2. Bono is known not only as a musician but also as...",
         "Bono",
         "✔️ [True]"
        ],
        [
         "18",
         "Which dog originated in the Mountains of Romania, the Ariege Pointer or the Carpathian Shepherd Dog?",
         "Carpathian Mountains of Romania.",
         "{'thought_0': 'I need to determine which dog breed originated in the Mountains of Romania. I will search for information about both the Ariege Pointer and...",
         "The Ariege Pointer is a French hunting dog and does not originate from Romania. In contrast, the Carpathian Shepherd Dog, known as \"Ciobănesc Românesc Carpatin,\"...",
         "Carpathian Shepherd Dog",
         ""
        ],
        [
         "19",
         "What actress from the 1999 movie The Virgin Suicides has won two golden globes and been nominated for an academy award?",
         "Mary Kathleen Turner",
         "{'thought_0': 'I need to find out which actress from the 1999 movie The Virgin Suicides has won two Golden Globes and been nominated for an...",
         "Kirsten Dunst is an actress from the 1999 movie \"The Virgin Suicides.\" She has won two Golden Globe Awards and has been nominated for an...",
         "Kirsten Dunst",
         ""
        ],
        [
         "20",
         "what revolution led to the overthrow of King James II of England and its news led to overthrow of androws in the Boston Revolt",
         "The Glorious Revolution,",
         "{'thought_0': 'I need to find out which revolution led to the overthrow of King James II of England and also had an impact on the...",
         "The revolution that led to the overthrow of King James II of England is known as the Glorious Revolution. This event not only resulted in...",
         "Glorious Revolution",
         "✔️ [True]"
        ],
        [
         "21",
         "What's the present day English county of Skelton-in-Cleveland, recorded in the Domesday Book and site of a 12th-century castle?",
         "North Yorkshire",
         "{'thought_0': 'I need to find out the present-day English county where Skelton-in-Cleveland is located, as well as its historical significance mentioned in the Domesday Book...",
         "Skelton-in-Cleveland is a small town located in the civil parish of Skelton and Brotton, which is part of North Yorkshire, England. It is also under...",
         "North Yorkshire",
         "✔️ [True]"
        ],
        [
         "22",
         "Kyle Moran was born in the town on what river?",
         "Castletown",
         "{'thought_0': \"I need to find out information about Kyle Moran, specifically his birthplace, to determine the town he was born in and the river associated...",
         "Kyle Moran was born in Dundalk, Ireland. The town of Dundalk is situated on the Castletown River, which flows into Dundalk Bay. Therefore, the river...",
         "Castletown River",
         ""
        ],
        [
         "23",
         "what is the largest university press in the world that published Oxford Companions?",
         "Oxford University Press",
         "{'thought_0': 'I need to find out which university press is the largest in the world and has published the Oxford Companions. I will search for...",
         "Oxford University Press is identified as the largest university press in the world and is known for publishing the Oxford Companions. This information confirms that...",
         "Oxford University Press",
         "✔️ [True]"
        ],
        [
         "24",
         "Was the boxing match between Carl Froch vs. George Groves, billed as the \"Battle of Britain\", held indoors or outdoors?",
         "indoor",
         "{'thought_0': 'I need to find out whether the boxing match between Carl Froch and George Groves, known as the \"Battle of Britain,\" was held indoors...",
         "The boxing match between Carl Froch and George Groves, billed as the \"Battle of Britain,\" took place at the Manchester Arena. Since the Manchester Arena...",
         "Indoors",
         ""
        ],
        [
         "25",
         "what song is in the movie directed by Paul Hoen based on the novel \"if I had one wish\"?",
         "\"World of Our Own\"",
         "{'thought_0': 'I need to find out which movie directed by Paul Hoen is based on the novel \"If I Had One Wish\" and what song...",
         "The movie directed by Paul Hoen based on the novel \"If I Had One Wish\" is \"You Wish!\" which was released in 2003. However, I...",
         "The specific song featured in \"You Wish!\" is not available from the searches conducted.",
         ""
        ],
        [
         "26",
         "What film was William Fichtner in that also had Heath Ledger in it?",
         "The Dark Knight",
         "{'thought_0': 'I need to find a film that features both William Fichtner and Heath Ledger. I will search for movies that include both actors to...",
         "After searching for films featuring both William Fichtner and Heath Ledger, I found that they both appeared in \"The Dark Knight\" (2008). This film features...",
         "The Dark Knight",
         "✔️ [True]"
        ],
        [
         "27",
         "Which band from East London had Steve Marriott as a band member?",
         "Small Faces",
         "{'thought_0': 'I need to find out which band from East London had Steve Marriott as a member. I will search for information about Steve Marriott...",
         "Steve Marriott was a member of the band Small Faces, which is an English rock band that originated from East London. This information confirms that...",
         "Small Faces",
         "✔️ [True]"
        ],
        [
         "28",
         "What is the name of the TV station in Hudson County, New Jersey, where Van Hackett worked?",
         "WWOR-TV",
         "{'thought_0': 'I need to find information about Van Hackett and the TV station he worked at in Hudson County, New Jersey. I will search for...",
         "Van Hackett worked at WWOR-TV in Secaucus, New Jersey, which is located in Hudson County. This information confirms the TV station he was associated with...",
         "WWOR-TV",
         "✔️ [True]"
        ],
        [
         "29",
         "Where did the star of Redbelt get a scholarship?",
         "London Academy of Music",
         "{'thought_0': 'I need to find out where the star of Redbelt received a scholarship. First, I should identify who the star of Redbelt is and...",
         "The star of \"Redbelt\" is Chiwetel Ejiofor. He received a scholarship to the London Academy of Music and Dramatic Art, which is where he furthered...",
         "London Academy of Music and Dramatic Art",
         ""
        ],
        [
         "30",
         "What countries utilize the ECTS grading scale that Norway adopted?",
         "Europe",
         "{'thought_0': 'I need to find out which countries utilize the ECTS grading scale that Norway adopted. I will search for information about the ECTS grading...",
         "The ECTS grading scale is part of the European Credit Transfer and Accumulation System, which is utilized by many countries in Europe to facilitate the...",
         "Countries that utilize the ECTS grading scale include most European Union member states and other European countries, such as Germany, France, Spain, and Italy.",
         ""
        ],
        [
         "31",
         "Which of Adelaide Metro's stations is located at the base of the Mount Lofty Ranges?",
         "Belair railway station",
         "{'thought_0': 'I need to find out which station of Adelaide Metro is located at the base of the Mount Lofty Ranges. I will search for...",
         "After researching the Adelaide Metro stations and their geographical locations, I found that Mount Lofty Railway Station is associated with the Mount Lofty area. Although...",
         "Mount Lofty Railway Station",
         ""
        ],
        [
         "32",
         "Carry On is a 4-CD career retrospective box set by Stephen Stills, including tracks with the vocal folk rock supergroup named what?",
         "Crosby, Stills, Nash & Young",
         "{'thought_0': 'I need to find out the name of the vocal folk rock supergroup that Stephen Stills was a part of, as this will help...",
         "Stephen Stills was a member of the vocal folk rock supergroup Crosby, Stills, Nash & Young (CSNY). This group is known for its intricate vocal...",
         "Crosby, Stills, Nash & Young",
         "✔️ [True]"
        ],
        [
         "33",
         "Intimidator 305 and Thunder Dolphin are what type of roller coaster?",
         "steel roller coaster",
         "{'thought_0': 'I need to find out what type of roller coasters Intimidator 305 and Thunder Dolphin are. I will search for information about these specific...",
         "Both Intimidator 305 and Thunder Dolphin are classified as steel roller coasters. Intimidator 305 is specifically categorized as a Giga Coaster, which is a type...",
         "Steel roller coasters; Intimidator 305 is a Giga Coaster.",
         ""
        ],
        [
         "34",
         "What is Amanda Crew's role in the movie Sex Drive?",
         "stars",
         "{'thought_0': 'I need to find out what role Amanda Crew played in the movie Sex Drive. I will search for information specifically about the cast...",
         "Amanda Crew played the role of Felicia Alpine in the movie \"Sex Drive.\" This information was confirmed through a search about her role in the...",
         "Felicia Alpine",
         ""
        ],
        [
         "35",
         "What was the role played in \"Sweet Charity\" by the star of Dear Diary?",
         "Nickie",
         "{'thought_0': 'To answer the question about the role played in \"Sweet Charity\" by the star of \"Dear Diary,\" I need to identify who the star...",
         "The star of the 1996 film \"Dear Diary\" is Bebe Neuwirth. In the revival of \"Sweet Charity,\" she played the role of Nickie. Therefore, the...",
         "Nickie",
         "✔️ [True]"
        ],
        [
         "36",
         "Widows' Peak stars what English actress commonly known as  Dame",
         "Joan Plowright",
         "{'thought_0': 'I need to find out which English actress commonly known as \"Dame\" stars in the film Widows\\' Peak. I will search for the cast...",
         "The film \"Widows' Peak\" features Joan Plowright, who is commonly known as Dame Joan Plowright. She is an English actress and is recognized with the...",
         "Dame Joan Plowright",
         ""
        ],
        [
         "37",
         "in the 1975–76, Seattle SuperSonics lost to a team based in which US state ?",
         "Arizona",
         "{'thought_0': 'I need to find out which team the Seattle SuperSonics lost to in the 1975–76 season and the state that team is based in....",
         "The Seattle SuperSonics lost to the Phoenix Suns in the 1975–76 NBA season. The Phoenix Suns are based in Phoenix, Arizona. Therefore, the state where...",
         "Arizona",
         "✔️ [True]"
        ],
        [
         "38",
         "What musical instrument does Amaan Ali Khan and  Amjad Ali Khan both play?",
         "the sarod",
         "{'thought_0': 'I need to find out what musical instrument Amaan Ali Khan and Amjad Ali Khan both play. I will search for information about these...",
         "Both Amaan Ali Khan and Amjad Ali Khan are known for playing the sarod, a traditional Indian stringed instrument. This information was confirmed through the...",
         "sarod",
         "✔️ [True]"
        ],
        [
         "39",
         "The principal building in the village of Guthrie dates back to what century?",
         "the 15th century",
         "{'thought_0': 'I need to find out information about the principal building in the village of Guthrie and when it was built. I will search for...",
         "The principal building in the village of Guthrie is Guthrie Castle, which dates back to the 15th century. Although the parish church in the village,...",
         "15th century",
         "✔️ [True]"
        ],
        [
         "40",
         "What American singer born 1951 does Jim Rooney  have credits for?",
         "Iris Luella DeMent",
         "{'thought_0': 'I need to find out which American singer born in 1951 Jim Rooney has credits for. I will search for information about Jim Rooney...",
         "Jim Rooney is a music producer known for his collaborations with various artists. After searching for American singers born in 1951, I found Zella Lehr,...",
         "Zella Lehr",
         ""
        ],
        [
         "41",
         "Are Hüsker Dü and The Colourist both musical bands?",
         "yes",
         "{'thought_0': 'I need to confirm whether both Hüsker Dü and The Colourist are musical bands. I will search for information about each of these groups...",
         "I confirmed that Hüsker Dü is an American rock band formed in 1979, and The Colourist is an American indie pop band. Since both groups...",
         "Yes, both Hüsker Dü and The Colourist are musical bands.",
         ""
        ],
        [
         "42",
         "Who was the son of British radio and television presenter and historian best known as an analyst of election results?",
         "Dan Snow",
         "{'thought_0': 'I need to identify the British radio and television presenter and historian known for analyzing election results. Once I find this person, I can...",
         "Peter Snow is a British radio and television presenter and historian known for his analysis of election results. His son is Dan Snow, who is...",
         "Dan Snow",
         "✔️ [True]"
        ],
        [
         "43",
         "Which building, Olympic Tower or Latting Observatory, is no longer erect?",
         "Latting Observatory",
         "{'thought_0': 'I need to find out the current status of both Olympic Tower and Latting Observatory to determine which one is no longer erect. I...",
         "The Latting Observatory was built in 1853 and burned down in 1856, which confirms that it is no longer erect. In contrast, the Olympic Tower...",
         "Latting Observatory",
         "✔️ [True]"
        ],
        [
         "44",
         "Which professional basketball player won a NBA championship and spoke positively on the book \"the 21 irrefutable laws of leadership\"?",
         "Harrison Barnes",
         "{'thought_0': 'I need to find a professional basketball player who has won an NBA championship and has spoken positively about the book \"The 21 Irrefutable...",
         "Harrison Barnes is a professional basketball player who won an NBA championship with the Golden State Warriors in 2015. He has also spoken positively about...",
         "Harrison Barnes",
         "✔️ [True]"
        ],
        [
         "45",
         "Who was the first love interest for J. K. Rowling's orphan character who attends Hogwarts School of Witchcraft and Wizardry?",
         "Cho Chang",
         "{'thought_0': \"I need to find out who the first love interest was for J. K. Rowling's orphan character at Hogwarts. This character is Harry Potter,...",
         "Cho Chang is identified as the first love interest for Harry Potter, the orphan character created by J. K. Rowling who attends Hogwarts School of...",
         "Cho Chang",
         "✔️ [True]"
        ],
        [
         "46",
         "Utterby is situated on the road that is in what English region?",
         "East Midlands",
         "{'thought_0': 'I need to find out more about Utterby and its geographical context, specifically the road it is situated on and the English region it...",
         "Utterby is a village located in the East Lindsey district of Lincolnshire, England. It is situated on the A16 road, which further confirms its geographical...",
         "Lincolnshire",
         ""
        ],
        [
         "47",
         "What prestigious award have Bertrand Russell and Günter Grass won?",
         "Nobel Prize",
         "{'thought_0': 'I need to find out what prestigious award both Bertrand Russell and Günter Grass have won. I will search for information about the awards...",
         "Both Bertrand Russell and Günter Grass have won the Nobel Prize in Literature. Bertrand Russell received this award in 1950, while Günter Grass was awarded...",
         "Nobel Prize in Literature",
         ""
        ],
        [
         "48",
         "What precious metal did both McIntyre Mines and the Kemess Mine dig for?",
         "gold",
         "{'thought_0': 'I need to find out what precious metal both McIntyre Mines and the Kemess Mine were known for extracting. I will search for information...",
         "Both McIntyre Mines and the Kemess Mine were known for extracting gold. The McIntyre Mines, located in Ontario, Canada, primarily extracted gold and some copper....",
         "Gold",
         "✔️ [True]"
        ],
        [
         "49",
         "Which science fiction trilogy has in the lead role an actress who had a voice role in the 3D film Peter Rabbit?",
         "Star Wars",
         "{'thought_0': 'I need to find out which actress had a voice role in the 3D film Peter Rabbit. Once I identify her, I can then...",
         "Daisy Ridley provided a voice role in the 3D film \"Peter Rabbit.\" She is also known for her lead role as Rey in the \"Star...",
         "Star Wars trilogy",
         ""
        ]
       ],
       "shape": {
        "columns": 6,
        "rows": 100
       }
      },
      "text/html": [
       "<div>\n",
       "<style scoped>\n",
       "    .dataframe tbody tr th:only-of-type {\n",
       "        vertical-align: middle;\n",
       "    }\n",
       "\n",
       "    .dataframe tbody tr th {\n",
       "        vertical-align: top;\n",
       "    }\n",
       "\n",
       "    .dataframe thead th {\n",
       "        text-align: right;\n",
       "    }\n",
       "</style>\n",
       "<table border=\"1\" class=\"dataframe\">\n",
       "  <thead>\n",
       "    <tr style=\"text-align: right;\">\n",
       "      <th></th>\n",
       "      <th>question</th>\n",
       "      <th>example_answer</th>\n",
       "      <th>trajectory</th>\n",
       "      <th>reasoning</th>\n",
       "      <th>pred_answer</th>\n",
       "      <th>answer_exact_match</th>\n",
       "    </tr>\n",
       "  </thead>\n",
       "  <tbody>\n",
       "    <tr>\n",
       "      <th>0</th>\n",
       "      <td>What movie did \"the king of cool\" play in with Bud Ekins as his st...</td>\n",
       "      <td>\"The Great Escape\"</td>\n",
       "      <td>{'thought_0': 'I need to find out which movie \"the king of cool\" s...</td>\n",
       "      <td>Steve McQueen, referred to as \"the king of cool,\" starred in the f...</td>\n",
       "      <td>The Great Escape</td>\n",
       "      <td>✔️ [True]</td>\n",
       "    </tr>\n",
       "    <tr>\n",
       "      <th>1</th>\n",
       "      <td>whos family had their own reality tv show. Robert Kardashian or Ma...</td>\n",
       "      <td>their family reality television series</td>\n",
       "      <td>{'thought_0': 'I need to determine which of the two individuals, R...</td>\n",
       "      <td>Robert Kardashian is part of the Kardashian family, who are famous...</td>\n",
       "      <td>Robert Kardashian</td>\n",
       "      <td></td>\n",
       "    </tr>\n",
       "    <tr>\n",
       "      <th>2</th>\n",
       "      <td>Which star in Shadows in Paradise is a Russian ballerina?</td>\n",
       "      <td>Sofya Skya</td>\n",
       "      <td>{'thought_0': 'I need to find out which star in the film \"Shadows ...</td>\n",
       "      <td>In the 2010 film \"Shadows in Paradise,\" Sofya Skya is a prominent ...</td>\n",
       "      <td>Sofya Skya</td>\n",
       "      <td>✔️ [True]</td>\n",
       "    </tr>\n",
       "    <tr>\n",
       "      <th>3</th>\n",
       "      <td>What was the meaning of the name of the man who appointed Amashsai?</td>\n",
       "      <td>comforter</td>\n",
       "      <td>{'thought_0': \"I need to find out who appointed Amashsai and the m...</td>\n",
       "      <td>Amashsai was appointed by Nehemiah, and the name \"Nehemiah\" means ...</td>\n",
       "      <td>Yahweh comforts</td>\n",
       "      <td></td>\n",
       "    </tr>\n",
       "    <tr>\n",
       "      <th>4</th>\n",
       "      <td>In addition to the Austrian passport, what is needed to gain acces...</td>\n",
       "      <td>national identity card</td>\n",
       "      <td>{'thought_0': 'To answer the question about what is needed in addi...</td>\n",
       "      <td>The information gathered indicates that Austrian citizens have vis...</td>\n",
       "      <td>Austrian passport (and possibly a visa for specific countries)</td>\n",
       "      <td></td>\n",
       "    </tr>\n",
       "    <tr>\n",
       "      <th>...</th>\n",
       "      <td>...</td>\n",
       "      <td>...</td>\n",
       "      <td>...</td>\n",
       "      <td>...</td>\n",
       "      <td>...</td>\n",
       "      <td>...</td>\n",
       "    </tr>\n",
       "    <tr>\n",
       "      <th>95</th>\n",
       "      <td>What date did the American actress and singer-songwriter, known fo...</td>\n",
       "      <td>April 19, 1994</td>\n",
       "      <td>{'thought_0': 'I need to find out the name of the American actress...</td>\n",
       "      <td>The American actress and singer-songwriter known for her role as P...</td>\n",
       "      <td>2007</td>\n",
       "      <td></td>\n",
       "    </tr>\n",
       "    <tr>\n",
       "      <th>96</th>\n",
       "      <td>What animated creatures were the title characters of the film whic...</td>\n",
       "      <td>seals</td>\n",
       "      <td>{'thought_0': 'I need to identify the animated creatures that were...</td>\n",
       "      <td>The animated creatures that are the title characters of the film b...</td>\n",
       "      <td>Fairies (Puck, Titania, Oberon)</td>\n",
       "      <td></td>\n",
       "    </tr>\n",
       "    <tr>\n",
       "      <th>97</th>\n",
       "      <td>The 1925 Saint Mary's Gaels football team represented what private...</td>\n",
       "      <td>Saint Mary's College of California</td>\n",
       "      <td>{'thought_0': \"I need to find out which private, coeducational col...</td>\n",
       "      <td>The 1925 Saint Mary's Gaels football team represented Saint Mary's...</td>\n",
       "      <td>Saint Mary's College of California</td>\n",
       "      <td>✔️ [True]</td>\n",
       "    </tr>\n",
       "    <tr>\n",
       "      <th>98</th>\n",
       "      <td>Were Dorothy Arzner and Richard Wallace both French film directors?</td>\n",
       "      <td>no</td>\n",
       "      <td>{'thought_0': 'I need to determine the nationalities of both Dorot...</td>\n",
       "      <td>Dorothy Arzner was an American film director, and Richard Wallace ...</td>\n",
       "      <td>No, they were not both French film directors.</td>\n",
       "      <td></td>\n",
       "    </tr>\n",
       "    <tr>\n",
       "      <th>99</th>\n",
       "      <td>Which artist started recording/performing earlier David Donato or ...</td>\n",
       "      <td>Moya Brennan</td>\n",
       "      <td>{'thought_0': 'To determine which artist started recording or perf...</td>\n",
       "      <td>Moya Brennan began performing professionally in 1970 with the band...</td>\n",
       "      <td>Moya Brennan</td>\n",
       "      <td>✔️ [True]</td>\n",
       "    </tr>\n",
       "  </tbody>\n",
       "</table>\n",
       "<p>100 rows × 6 columns</p>\n",
       "</div>"
      ],
      "text/plain": [
       "                                                                 question  \\\n",
       "0   What movie did \"the king of cool\" play in with Bud Ekins as his st...   \n",
       "1   whos family had their own reality tv show. Robert Kardashian or Ma...   \n",
       "2               Which star in Shadows in Paradise is a Russian ballerina?   \n",
       "3     What was the meaning of the name of the man who appointed Amashsai?   \n",
       "4   In addition to the Austrian passport, what is needed to gain acces...   \n",
       "..                                                                    ...   \n",
       "95  What date did the American actress and singer-songwriter, known fo...   \n",
       "96  What animated creatures were the title characters of the film whic...   \n",
       "97  The 1925 Saint Mary's Gaels football team represented what private...   \n",
       "98    Were Dorothy Arzner and Richard Wallace both French film directors?   \n",
       "99  Which artist started recording/performing earlier David Donato or ...   \n",
       "\n",
       "                            example_answer  \\\n",
       "0                       \"The Great Escape\"   \n",
       "1   their family reality television series   \n",
       "2                               Sofya Skya   \n",
       "3                                comforter   \n",
       "4                   national identity card   \n",
       "..                                     ...   \n",
       "95                          April 19, 1994   \n",
       "96                                   seals   \n",
       "97      Saint Mary's College of California   \n",
       "98                                      no   \n",
       "99                            Moya Brennan   \n",
       "\n",
       "                                                               trajectory  \\\n",
       "0   {'thought_0': 'I need to find out which movie \"the king of cool\" s...   \n",
       "1   {'thought_0': 'I need to determine which of the two individuals, R...   \n",
       "2   {'thought_0': 'I need to find out which star in the film \"Shadows ...   \n",
       "3   {'thought_0': \"I need to find out who appointed Amashsai and the m...   \n",
       "4   {'thought_0': 'To answer the question about what is needed in addi...   \n",
       "..                                                                    ...   \n",
       "95  {'thought_0': 'I need to find out the name of the American actress...   \n",
       "96  {'thought_0': 'I need to identify the animated creatures that were...   \n",
       "97  {'thought_0': \"I need to find out which private, coeducational col...   \n",
       "98  {'thought_0': 'I need to determine the nationalities of both Dorot...   \n",
       "99  {'thought_0': 'To determine which artist started recording or perf...   \n",
       "\n",
       "                                                                reasoning  \\\n",
       "0   Steve McQueen, referred to as \"the king of cool,\" starred in the f...   \n",
       "1   Robert Kardashian is part of the Kardashian family, who are famous...   \n",
       "2   In the 2010 film \"Shadows in Paradise,\" Sofya Skya is a prominent ...   \n",
       "3   Amashsai was appointed by Nehemiah, and the name \"Nehemiah\" means ...   \n",
       "4   The information gathered indicates that Austrian citizens have vis...   \n",
       "..                                                                    ...   \n",
       "95  The American actress and singer-songwriter known for her role as P...   \n",
       "96  The animated creatures that are the title characters of the film b...   \n",
       "97  The 1925 Saint Mary's Gaels football team represented Saint Mary's...   \n",
       "98  Dorothy Arzner was an American film director, and Richard Wallace ...   \n",
       "99  Moya Brennan began performing professionally in 1970 with the band...   \n",
       "\n",
       "                                                       pred_answer  \\\n",
       "0                                                 The Great Escape   \n",
       "1                                                Robert Kardashian   \n",
       "2                                                       Sofya Skya   \n",
       "3                                                  Yahweh comforts   \n",
       "4   Austrian passport (and possibly a visa for specific countries)   \n",
       "..                                                             ...   \n",
       "95                                                            2007   \n",
       "96                                 Fairies (Puck, Titania, Oberon)   \n",
       "97                              Saint Mary's College of California   \n",
       "98                   No, they were not both French film directors.   \n",
       "99                                                    Moya Brennan   \n",
       "\n",
       "   answer_exact_match  \n",
       "0           ✔️ [True]  \n",
       "1                      \n",
       "2           ✔️ [True]  \n",
       "3                      \n",
       "4                      \n",
       "..                ...  \n",
       "95                     \n",
       "96                     \n",
       "97          ✔️ [True]  \n",
       "98                     \n",
       "99          ✔️ [True]  \n",
       "\n",
       "[100 rows x 6 columns]"
      ]
     },
     "metadata": {},
     "output_type": "display_data"
    },
    {
     "name": "stdout",
     "output_type": "stream",
     "text": [
      "🏃 View run eval at: http://localhost:8080/#/experiments/840480777417013393/runs/9abf7ebe6ed748f4b1cbb6772eafa5f9\n",
      "🧪 View experiment at: http://localhost:8080/#/experiments/840480777417013393\n",
      "Optimized score: 51.0\n"
     ]
    },
    {
     "data": {
      "text/html": [
       "\n",
       "<div>\n",
       "  <style scoped>\n",
       "  button {\n",
       "    border: none;\n",
       "    border-radius: 4px;\n",
       "    background-color: rgb(34, 114, 180);\n",
       "    font-family: -apple-system, \"system-ui\", \"Segoe UI\", Roboto, \"Helvetica Neue\", Arial;\n",
       "    font-size: 13px;\n",
       "    color: white;\n",
       "    margin-top: 8px;\n",
       "    margin-bottom: 8px;\n",
       "    padding: 8px 16px;\n",
       "    cursor: pointer;\n",
       "  }\n",
       "  button:hover {\n",
       "    background-color: rgb(66, 153, 224);\n",
       "  }\n",
       "  </style>\n",
       "  <button\n",
       "    onclick=\"\n",
       "        const display = this.nextElementSibling.style.display;\n",
       "        const isCollapsed = display === 'none';\n",
       "        this.nextElementSibling.style.display = isCollapsed ? null : 'none';\n",
       "\n",
       "        const verb = isCollapsed ? 'Collapse' : 'Expand';\n",
       "        this.innerText = `${verb} MLflow Trace`;\n",
       "    \"\n",
       "  >Collapse MLflow Trace</button>\n",
       "  <iframe\n",
       "    id=\"trace-renderer\"\n",
       "    style=\"width: 100%; height: 500px; border: none; resize: vertical;\"\n",
       "    src=\"http://localhost:8080/static-files/lib/notebook-trace-renderer/index.html?trace_id=369d5e66fd7544b79850a0d0eaebbc55&amp;experiment_id=840480777417013393&amp;trace_id=12f25055d89d48b2ac72ea1f825cad3c&amp;experiment_id=840480777417013393&amp;trace_id=7096e461474e46f99551ddc483817582&amp;experiment_id=840480777417013393&amp;trace_id=337f538f70a940b5ba8e6f93780a73ad&amp;experiment_id=840480777417013393&amp;trace_id=cd2bb3cf73cd444699ac6f25176ad66f&amp;experiment_id=840480777417013393&amp;trace_id=f982f5b92cc540a5bc47e77bc0553fc8&amp;experiment_id=840480777417013393&amp;trace_id=f62cd068244c4789992a9a555e54988f&amp;experiment_id=840480777417013393&amp;trace_id=75959e0765cf4147bbc013e3d33773be&amp;experiment_id=840480777417013393&amp;trace_id=89d48641f2844f8c9d5accba99a6f2f0&amp;experiment_id=840480777417013393&amp;trace_id=a787321988444bee9c76a4f0ae5cadb2&amp;experiment_id=840480777417013393&amp;version=3.1.1\"\n",
       "  />\n",
       "</div>\n"
      ],
      "text/plain": [
       "[Trace(trace_id=369d5e66fd7544b79850a0d0eaebbc55), Trace(trace_id=12f25055d89d48b2ac72ea1f825cad3c), Trace(trace_id=7096e461474e46f99551ddc483817582), Trace(trace_id=337f538f70a940b5ba8e6f93780a73ad), Trace(trace_id=cd2bb3cf73cd444699ac6f25176ad66f), Trace(trace_id=f982f5b92cc540a5bc47e77bc0553fc8), Trace(trace_id=f62cd068244c4789992a9a555e54988f), Trace(trace_id=75959e0765cf4147bbc013e3d33773be), Trace(trace_id=89d48641f2844f8c9d5accba99a6f2f0), Trace(trace_id=a787321988444bee9c76a4f0ae5cadb2)]"
      ]
     },
     "metadata": {},
     "output_type": "display_data"
    }
   ],
   "source": [
    "optimized_score = evaluator(optimized_react)\n",
    "print(f\"Optimized score: {optimized_score}\")"
   ]
  },
  {
   "cell_type": "code",
   "execution_count": null,
   "id": "26f909c3-c4b3-45d9-9723-5262cda7385d",
   "metadata": {
    "height": 30
   },
   "outputs": [],
   "source": []
  },
  {
   "cell_type": "code",
   "execution_count": null,
   "id": "33ad44e3-1c4e-44f0-bea8-d0a0c97942ff",
   "metadata": {
    "height": 30
   },
   "outputs": [],
   "source": []
  },
  {
   "cell_type": "code",
   "execution_count": null,
   "id": "16f6e622-4ed5-48ca-9846-0272f0688638",
   "metadata": {
    "height": 30
   },
   "outputs": [],
   "source": []
  },
  {
   "cell_type": "code",
   "execution_count": null,
   "id": "a424f60c-25b4-47ab-a16f-18a18f682f54",
   "metadata": {
    "height": 30
   },
   "outputs": [],
   "source": []
  },
  {
   "cell_type": "code",
   "execution_count": null,
   "id": "8dd42552-380a-4691-9438-66a00d0464ef",
   "metadata": {
    "height": 30
   },
   "outputs": [],
   "source": []
  },
  {
   "cell_type": "code",
   "execution_count": null,
   "id": "ccd4ff3d-b390-4f8e-81e2-4164aca4f728",
   "metadata": {
    "height": 30
   },
   "outputs": [],
   "source": []
  },
  {
   "cell_type": "code",
   "execution_count": null,
   "id": "a9d39963-d05e-49d9-95b4-4d49b3c9b8e3",
   "metadata": {
    "height": 30
   },
   "outputs": [],
   "source": []
  },
  {
   "cell_type": "code",
   "execution_count": null,
   "id": "9ae05563-3668-44d9-94ba-e2b498b1b559",
   "metadata": {
    "height": 30
   },
   "outputs": [],
   "source": []
  }
 ],
 "metadata": {
  "kernelspec": {
   "display_name": "DLAI-shortcourse_notebooks",
   "language": "python",
   "name": "python3"
  },
  "language_info": {
   "codemirror_mode": {
    "name": "ipython",
    "version": 3
   },
   "file_extension": ".py",
   "mimetype": "text/x-python",
   "name": "python",
   "nbconvert_exporter": "python",
   "pygments_lexer": "ipython3",
   "version": "3.11.12"
  }
 },
 "nbformat": 4,
 "nbformat_minor": 5
}
